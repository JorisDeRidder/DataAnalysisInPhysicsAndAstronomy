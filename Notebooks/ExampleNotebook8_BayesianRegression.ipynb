{
 "cells": [
  {
   "attachments": {},
   "cell_type": "markdown",
   "metadata": {},
   "source": [
    "# Bayesian regression using PyMC and STAN"
   ]
  },
  {
   "attachments": {},
   "cell_type": "markdown",
   "metadata": {},
   "source": [
    "Report any errors to Joris De Ridder."
   ]
  },
  {
   "attachments": {},
   "cell_type": "markdown",
   "metadata": {},
   "source": [
    "## Imports"
   ]
  },
  {
   "cell_type": "code",
   "execution_count": 1,
   "metadata": {},
   "outputs": [
    {
     "name": "stdout",
     "output_type": "stream",
     "text": [
      "Python version:  3.11.0 | packaged by conda-forge | (main, Jan 14 2023, 12:25:12) [Clang 14.0.6 ]\n"
     ]
    }
   ],
   "source": [
    "import sys\n",
    "print(\"Python version: \", sys.version)"
   ]
  },
  {
   "cell_type": "code",
   "execution_count": 2,
   "metadata": {},
   "outputs": [
    {
     "name": "stdout",
     "output_type": "stream",
     "text": [
      "NumPy version:  1.24.3\n",
      "SciPy version:  1.10.1\n",
      "Pandas version:  1.5.3\n"
     ]
    }
   ],
   "source": [
    "import numpy as np\n",
    "import scipy as sp\n",
    "import pandas as pd\n",
    "print(\"NumPy version: \", np.__version__)\n",
    "print(\"SciPy version: \", sp.__version__)\n",
    "print(\"Pandas version: \", pd.__version__)"
   ]
  },
  {
   "cell_type": "code",
   "execution_count": 3,
   "metadata": {},
   "outputs": [
    {
     "name": "stdout",
     "output_type": "stream",
     "text": [
      "Statsmodels version:  0.13.5\n"
     ]
    }
   ],
   "source": [
    "import statsmodels.api as sm\n",
    "import statsmodels.formula.api as smf\n",
    "print(\"Statsmodels version: \", sm.__version__)"
   ]
  },
  {
   "cell_type": "code",
   "execution_count": 4,
   "metadata": {},
   "outputs": [
    {
     "name": "stdout",
     "output_type": "stream",
     "text": [
      "PyMC version:  5.3.0\n",
      "PyTensor version:  2.11.1\n"
     ]
    }
   ],
   "source": [
    "import pymc as pm\n",
    "import pytensor\n",
    "import pytensor.tensor as pt \n",
    "print(\"PyMC version: \", pm.__version__)\n",
    "print(\"PyTensor version: \", pytensor.__version__)"
   ]
  },
  {
   "cell_type": "code",
   "execution_count": 5,
   "metadata": {},
   "outputs": [
    {
     "name": "stdout",
     "output_type": "stream",
     "text": [
      "PyStan version:  3.6.0\n"
     ]
    }
   ],
   "source": [
    "import stan\n",
    "import nest_asyncio\n",
    "nest_asyncio.apply()\n",
    "print(\"PyStan version: \", stan.__version__)"
   ]
  },
  {
   "cell_type": "code",
   "execution_count": 6,
   "metadata": {},
   "outputs": [
    {
     "name": "stdout",
     "output_type": "stream",
     "text": [
      "Matplotlib version:  3.7.1\n"
     ]
    }
   ],
   "source": [
    "%matplotlib inline\n",
    "import matplotlib\n",
    "from matplotlib import pyplot as plt\n",
    "print(\"Matplotlib version: \", matplotlib.__version__)"
   ]
  },
  {
   "cell_type": "code",
   "execution_count": 9,
   "metadata": {},
   "outputs": [
    {
     "name": "stdout",
     "output_type": "stream",
     "text": [
      "Plotly version:  5.14.1\n"
     ]
    }
   ],
   "source": [
    "import plotly\n",
    "print(\"Plotly version: \", plotly.__version__)"
   ]
  },
  {
   "cell_type": "code",
   "execution_count": 10,
   "metadata": {},
   "outputs": [
    {
     "name": "stdout",
     "output_type": "stream",
     "text": [
      "Arviz version:  0.15.1\n"
     ]
    }
   ],
   "source": [
    "import arviz as az\n",
    "print(\"Arviz version: \", az.__version__)"
   ]
  },
  {
   "cell_type": "code",
   "execution_count": 11,
   "metadata": {},
   "outputs": [
    {
     "name": "stdout",
     "output_type": "stream",
     "text": [
      "Corner version:  2.2.2\n"
     ]
    }
   ],
   "source": [
    "import corner\n",
    "print(\"Corner version: \", corner.__version__)"
   ]
  },
  {
   "cell_type": "code",
   "execution_count": 12,
   "metadata": {},
   "outputs": [
    {
     "name": "stdout",
     "output_type": "stream",
     "text": [
      "lmfit version:  1.2.1\n",
      "sympy version:  1.11.1\n",
      "sklearn version:  1.2.2\n"
     ]
    }
   ],
   "source": [
    "import lmfit\n",
    "import sympy\n",
    "import sklearn\n",
    "print(\"lmfit version: \", lmfit.__version__)\n",
    "print(\"sympy version: \", sympy.__version__)\n",
    "print(\"sklearn version: \", sklearn.__version__)"
   ]
  },
  {
   "attachments": {},
   "cell_type": "markdown",
   "metadata": {},
   "source": [
    "## Matplotlib font sizes"
   ]
  },
  {
   "cell_type": "code",
   "execution_count": null,
   "metadata": {},
   "outputs": [],
   "source": [
    "plt.rc('font',   size=15)          # controls default text sizes\n",
    "plt.rc('axes',   titlesize=15)     # fontsize of the axes title\n",
    "plt.rc('axes',   labelsize=15)     # fontsize of the x and y labels\n",
    "plt.rc('xtick',  labelsize=15)     # fontsize of the tick labels\n",
    "plt.rc('ytick',  labelsize=15)     # fontsize of the tick labels\n",
    "plt.rc('legend', fontsize=15)      # legend fontsize\n",
    "plt.rc('figure', titlesize=15)     # fontsize of the figure title"
   ]
  },
  {
   "attachments": {},
   "cell_type": "markdown",
   "metadata": {},
   "source": [
    "## Links to documentation on the web"
   ]
  },
  {
   "attachments": {},
   "cell_type": "markdown",
   "metadata": {},
   "source": [
    "* [PyMC documentation](https://docs.pymc.io)\n",
    "* [PyMC examples](https://www.pymc.io/projects/examples/en/latest/gallery.html)\n",
    "* [Stan documentation](https://mc-stan.org/docs/2_26/stan-users-guide/index.html).\n",
    "* [Stan example models](https://github.com/stan-dev/example-models)\n",
    "* [A brief guide to Stan's warnings](https://mc-stan.org/misc/warnings.html)"
   ]
  },
  {
   "attachments": {},
   "cell_type": "markdown",
   "metadata": {},
   "source": [
    "## Contents"
   ]
  },
  {
   "attachments": {},
   "cell_type": "markdown",
   "metadata": {},
   "source": [
    "* [Basic linear regression [PyMC]](#Basic-linear-regression-with-PyMC)\n",
    "* [Linear regression using a design matrix [PyMC]](#Linear-regression-using-a-design-matrix-with-PyMC)\n",
    "* [Basic linear regression [Stan]](#Basic-linear-regression-with-Stan)\n",
    "* [Robust regression using a Student's T-distribution [PyMC]](#Robust-regression-using-a-StudentT-likelihood-with-PyMC)\n",
    "* [Robust regression using the Hogg et al. approach [PyMC]](#Robust-regression-using-the-Hogg-approach-with-PyMC)\n",
    "* [Robust regression using the Hogg et al. approach [Stan]](#Robust-regression-using-the-Hogg-approach-with-Stan)\n",
    "* [Piecewise linear regression [PyMC]](#Piecewise-linear-regression-with-PyMC)\n",
    "* [Piecewise linear regression [Stan]](#Piecewise-linear-regression-with-Stan)\n",
    "* [Uncertainties in y and x [Stan]](#Uncertainties-in-y-and-x-with-Stan)\n",
    "* [Uncertainties in y and x [PyMC]](#Uncertainties-in-y-and-x-with-PyMC)\n",
    "* [Fitting a distribution to a dataset [PyMC]](#Modeling-a-distribution-for-a-dataset-with-PyMC)\n",
    "* [Binomial logistic regression [Stan]](#Fitting-a-binomial-logistic-model-with-Stan)\n",
    "* [Binomial logistic regression [PyMC]](#Fitting-a-logistic-model-with-PyMC)\n",
    "* [Multinomial logistic regression [Stan]](#A-multinomial-logistic-model-with-Stan)\n",
    "* [Multinomial logistic regression [PyMC]](#A-multinomial-logistic-model-with-PyMC)\n",
    "* [Modeling a fraction with Beta [Stan]](#Modeling-a-fraction-with-the-Beta-distribution-with-Stan)\n",
    "* [Modeling counts with Poisson [PyMC]](#Modeling-counts-with-Poisson-with-PyMC)\n",
    "* [Modeling counts with Poisson [Stan]](#Modeling-counts-with-Poisson-with-Stan)\n",
    "* [Modeling counts with Negative Binomial [PyMC]](#Modeling-counts-with-Negative-Binomial-with-PyMC)\n",
    "* [Modeling counts with Negative Binomial [Stan]](#Modeling-counts-with-Negative-Binomial-with-Stan)\n",
    "* [Zero-truncated Poisson model [Stan]](#A-zero-truncated-Poisson-model-with-Stan)\n",
    "* [Zero-truncated Poisson model [PyMC]](#A-zero-truncated-Poisson-model-with-PyMC)\n"
   ]
  },
  {
   "attachments": {},
   "cell_type": "markdown",
   "metadata": {},
   "source": [
    "## Basic linear regression with PyMC"
   ]
  },
  {
   "attachments": {},
   "cell_type": "markdown",
   "metadata": {},
   "source": [
    "#### A synthetic dataset:"
   ]
  },
  {
   "cell_type": "code",
   "execution_count": null,
   "metadata": {},
   "outputs": [],
   "source": [
    "rng = np.random.default_rng(14)\n",
    "\n",
    "N = 50\n",
    "theta0 = 1\n",
    "theta1 = 2\n",
    "sigma = 0.3\n",
    "\n",
    "x = np.linspace(0, 1, N)\n",
    "y = theta0 + theta1 * x + rng.normal(0.0, sigma, N)"
   ]
  },
  {
   "cell_type": "code",
   "execution_count": null,
   "metadata": {},
   "outputs": [],
   "source": [
    "fig, ax = plt.subplots(1,1, figsize=(12,8))\n",
    "ax.scatter(x, y, s=20)\n",
    "ax.set_xlabel(\"x\")\n",
    "ax.set_ylabel(\"y\")\n",
    "ax.grid(True, color='gainsboro', linestyle='-', linewidth=0.5)\n",
    "plt.show()"
   ]
  },
  {
   "attachments": {},
   "cell_type": "markdown",
   "metadata": {},
   "source": [
    "#### The Bayesian model"
   ]
  },
  {
   "attachments": {},
   "cell_type": "markdown",
   "metadata": {},
   "source": [
    "Our Bayesian model:\n",
    "\n",
    "$\\mu = \\theta_0+\\theta_1 x$\n",
    "\n",
    "$\\theta_1 = \\tan(\\alpha)$\n",
    "\n",
    "$\\alpha \\sim {\\rm Uniform}(-\\pi/2, +\\pi/2)$ \n",
    "\n",
    "$\\theta_0 \\sim {\\rm Normal}(0, 20)$\n",
    "\n",
    "$\\sigma \\sim {\\rm HalfCauchy}(\\beta=3)$\n",
    "\n",
    "$y \\sim {\\rm Normal}(\\mu, \\sigma)$\n",
    "\n",
    "\n",
    "See the [PyMC documentation](https://docs.pymc.io/api/distributions/continuous.html#pymc3.distributions.continuous.HalfCauchy) on the definition of the HalfCauchy distribution."
   ]
  },
  {
   "cell_type": "code",
   "execution_count": null,
   "metadata": {},
   "outputs": [],
   "source": [
    "with pm.Model() as myModel:\n",
    "    \n",
    "    xobs = pm.MutableData(\"xobs\", x)\n",
    "    yobs = pm.MutableData(\"yobs\", y)\n",
    "    \n",
    "    sigma     = pm.HalfCauchy(\"sigma\", beta=3)\n",
    "    intercept = pm.Normal(\"intercept\", 0, sigma=20)\n",
    "    angle     = pm.Uniform(\"angle\", -np.pi/2, +np.pi/2)\n",
    "    slope     = pm.Deterministic('slope', np.tan(angle))\n",
    "    \n",
    "    likelihood = pm.Normal(\"y\", mu=intercept + slope * xobs, sigma=sigma, observed=yobs)\n",
    "\n",
    "    trace = pm.sample(3000, chains=4, cores=2, return_inferencedata=True)"
   ]
  },
  {
   "attachments": {},
   "cell_type": "markdown",
   "metadata": {},
   "source": [
    "#### Summary of the trace"
   ]
  },
  {
   "cell_type": "code",
   "execution_count": null,
   "metadata": {
    "scrolled": true
   },
   "outputs": [],
   "source": [
    "az.summary(trace, var_names=['intercept', 'slope', 'sigma'], hdi_prob=0.95, round_to=5)"
   ]
  },
  {
   "attachments": {},
   "cell_type": "markdown",
   "metadata": {},
   "source": [
    "The mean posterior values of the fit parameters can be obtained as follows:"
   ]
  },
  {
   "cell_type": "code",
   "execution_count": null,
   "metadata": {},
   "outputs": [],
   "source": [
    "posteriorMean = pm.summary(trace, var_names=['intercept', 'slope', 'sigma'])['mean']\n",
    "meanIntercept = posteriorMean.intercept\n",
    "meanSlope = posteriorMean.slope"
   ]
  },
  {
   "attachments": {},
   "cell_type": "markdown",
   "metadata": {},
   "source": [
    "#### Verify the behavior of the chains"
   ]
  },
  {
   "cell_type": "code",
   "execution_count": null,
   "metadata": {
    "scrolled": false
   },
   "outputs": [],
   "source": [
    "ax = az.plot_trace(trace, var_names=['intercept', 'slope', 'sigma'])"
   ]
  },
  {
   "attachments": {},
   "cell_type": "markdown",
   "metadata": {},
   "source": [
    "Auto-correlation functions:"
   ]
  },
  {
   "cell_type": "code",
   "execution_count": null,
   "metadata": {
    "scrolled": true
   },
   "outputs": [],
   "source": [
    "fig = az.plot_autocorr(trace, var_names=(\"intercept\", \"slope\"), max_lag=50, combined=True)"
   ]
  },
  {
   "attachments": {},
   "cell_type": "markdown",
   "metadata": {},
   "source": [
    "#### One and two-dimensional projections of the posterior samples"
   ]
  },
  {
   "cell_type": "code",
   "execution_count": null,
   "metadata": {},
   "outputs": [],
   "source": [
    "fig, ax = plt.subplots(3,3, figsize=(8,8))                                       # 3 because we're showing 3 params\n",
    "fig = corner.corner(trace, fig=fig, var_names=['intercept', 'slope', 'sigma'],\n",
    "                           quantiles=[0.16, 0.5, 0.84],\n",
    "                           show_titles=True, \n",
    "                           title_kwargs={\"fontsize\": 12})"
   ]
  },
  {
   "cell_type": "code",
   "execution_count": null,
   "metadata": {},
   "outputs": [],
   "source": [
    "myPlot = az.plot_posterior(trace, var_names=['intercept', 'slope'], point_estimate='mean', hdi_prob=0.95, textsize=15, round_to=4)"
   ]
  },
  {
   "attachments": {},
   "cell_type": "markdown",
   "metadata": {},
   "source": [
    "Arviz allows to make a 2D contour plot of posterior samples: "
   ]
  },
  {
   "cell_type": "code",
   "execution_count": null,
   "metadata": {},
   "outputs": [],
   "source": [
    "fig, ax = plt.subplots(1,1, figsize=(8,8)) \n",
    "kde_kwargs = {'contour_kwargs': {'levels': 10}}\n",
    "az.plot_pair(trace, ax=ax, var_names=['intercept', 'slope'], kind='kde', kde_kwargs=kde_kwargs);\n",
    "ax.grid(True, color='gainsboro', linestyle='-', linewidth=0.5, alpha=0.7)"
   ]
  },
  {
   "attachments": {},
   "cell_type": "markdown",
   "metadata": {},
   "source": [
    "#### Plotting the posterior model and the data"
   ]
  },
  {
   "attachments": {},
   "cell_type": "markdown",
   "metadata": {},
   "source": [
    "I first stack all the samples of all chains in one large stack."
   ]
  },
  {
   "cell_type": "code",
   "execution_count": null,
   "metadata": {},
   "outputs": [],
   "source": [
    "stacked = trace.posterior.stack(draws=(\"chain\", \"draw\"))\n",
    "slope = stacked.slope.values\n",
    "intercept = stacked.intercept.values"
   ]
  },
  {
   "cell_type": "code",
   "execution_count": null,
   "metadata": {},
   "outputs": [],
   "source": [
    "MAP = pm.find_MAP(model=myModel)\n",
    "MAPintercept = MAP['intercept']\n",
    "MAPslope = MAP['slope']\n",
    "print(\"MAP value intercept: \", MAPintercept)\n",
    "print(\"MAP value slope: \", MAPslope)"
   ]
  },
  {
   "cell_type": "code",
   "execution_count": null,
   "metadata": {},
   "outputs": [],
   "source": [
    "fig, ax = plt.subplots(1,1, figsize=(10,6)) \n",
    "ax.scatter(x,y, s=10)\n",
    "\n",
    "M = len(slope)//1000\n",
    "for n in range(0, len(slope), M):\n",
    "    ax.plot(x, intercept[n] + slope[n]*x, c=\"gray\", linewidth=1, alpha=0.03)\n",
    "\n",
    "#ax.plot(x, meanIntercept + meanSlope * x, c=\"red\", linewidth=1.5)\n",
    "ax.plot(x, MAPintercept + MAPslope * x, c=\"red\", linewidth=1.5)\n",
    "ax.set_xlabel(\"x\")\n",
    "ax.set_ylabel(\"y\")\n",
    "ax.set_xlim(0,1)\n",
    "plt.show()"
   ]
  },
  {
   "attachments": {},
   "cell_type": "markdown",
   "metadata": {},
   "source": [
    "#### Posterior predictive distribution"
   ]
  },
  {
   "attachments": {},
   "cell_type": "markdown",
   "metadata": {},
   "source": [
    "We aim to compute the posterior predictive distribution for a set of new x-values:"
   ]
  },
  {
   "cell_type": "code",
   "execution_count": null,
   "metadata": {
    "scrolled": true
   },
   "outputs": [],
   "source": [
    "Nnew = 30\n",
    "xnew = np.linspace(0, 1, Nnew)                        # Our set of new x-values \n",
    "with myModel:                                         # Use the same model as before \n",
    "   pm.set_data(\n",
    "   {\n",
    "      \"xobs\": xnew,                                   # Reset the x-values\n",
    "      \"yobs\": np.zeros_like(xnew)                     # Not needed, but must be same size as xobs\n",
    "   })\n",
    "\n",
    "   postPred = pm.sample_posterior_predictive(trace.posterior, return_inferencedata=True)"
   ]
  },
  {
   "attachments": {},
   "cell_type": "markdown",
   "metadata": {},
   "source": [
    "As usual, the Bayesian result is not a point estimate, but a distribution. For example the ynew distribution for xnew[0] and xnew[10] is:"
   ]
  },
  {
   "cell_type": "code",
   "execution_count": null,
   "metadata": {},
   "outputs": [],
   "source": [
    "fig, ax = plt.subplots(1,1, figsize=(10,6))\n",
    "az.plot_kde(np.array(postPred.posterior_predictive['y'][:,:,0]).flatten(), ax=ax)\n",
    "az.plot_kde(np.array(postPred.posterior_predictive['y'][:,:,10]).flatten(), ax=ax)\n",
    "ax.set_xlabel(\"ynew\")\n",
    "ax.set_ylabel(\"density\")\n",
    "ax.set_title(f\"Posterior predictive distribution for xnew = {xnew[0]} and xnew = {xnew[10]}\")\n",
    "plt.show()"
   ]
  },
  {
   "attachments": {},
   "cell_type": "markdown",
   "metadata": {},
   "source": [
    "Plot the 95% high-density probability."
   ]
  },
  {
   "cell_type": "code",
   "execution_count": null,
   "metadata": {},
   "outputs": [],
   "source": [
    "meanPostPred = postPred.posterior_predictive['y'].mean(axis=(0,1))                        # Average over chains and samples"
   ]
  },
  {
   "cell_type": "code",
   "execution_count": null,
   "metadata": {},
   "outputs": [],
   "source": [
    "fig, ax = plt.subplots(1,1, figsize=(10,6))\n",
    "ax.scatter(x,y, s=10)\n",
    "ax.plot(xnew, meanPostPred, c=\"red\", linewidth=1.5)\n",
    "az.plot_hdi(xnew, postPred.posterior_predictive['y'], hdi_prob=0.95, color=\"lightsteelblue\", fill_kwargs={'alpha': 0.3}, ax=ax)\n",
    "ax.set_xlabel(\"x\")\n",
    "ax.set_ylabel(\"y\")\n",
    "ax.set_xlim(0,1)"
   ]
  },
  {
   "attachments": {},
   "cell_type": "markdown",
   "metadata": {},
   "source": [
    "How does this compare with a 95% prediction interval obtained using least-squares?"
   ]
  },
  {
   "cell_type": "code",
   "execution_count": null,
   "metadata": {},
   "outputs": [],
   "source": [
    "df = pd.DataFrame({'y' : y, 'x': x})\n",
    "N = len(y)\n",
    "K = 2\n",
    "olsFit = sm.OLS.from_formula(formula='y ~ x', data=df).fit()\n",
    "s2 = np.sum(olsFit.resid**2) / (N-K)                               # Estimated variance of the (homescedastic) noise\n",
    "covMatrix = olsFit.cov_params()                                    # Covariance matrix of the fit parameters\n",
    "designX = sm.add_constant(np.column_stack([xnew]))                 # Design matrix\n",
    "ynew = designX @ olsFit.params                                     # Estimated y-values given the xnew values.\n",
    "\n",
    "sigma_y = np.zeros_like(xnew)\n",
    "for n in range(len(xnew)):\n",
    "    xvec = [1, xnew[n]]\n",
    "    sigma_y[n] = np.sqrt(xvec @ covMatrix @ xvec + s2)             # Uncertainty on the predicted y-value\n",
    "   \n",
    "Tdistrib = sp.stats.t(N-K)                                         # Student's T-distribution\n",
    "tMultiplier = Tdistrib.ppf(1-0.05/2)                               # 95% prediction interval\n",
    "\n",
    "lowerPI = ynew - tMultiplier * sigma_y                             # PI stands for Prediction Interval\n",
    "upperPI = ynew + tMultiplier * sigma_y"
   ]
  },
  {
   "cell_type": "code",
   "execution_count": null,
   "metadata": {},
   "outputs": [],
   "source": [
    "fig, ax = plt.subplots(1,1, figsize=(10,6))\n",
    "ax.scatter(x,y, s=10)\n",
    "ax.plot(xnew, meanPostPred, c=\"red\", linewidth=1.5)\n",
    "az.plot_hdi(xnew, postPred.posterior_predictive['y'], hdi_prob=0.95, color=\"lightsteelblue\", fill_kwargs={'alpha': 0.3}, ax=ax)   # The Bayesian version\n",
    "ax.plot(xnew, lowerPI, c=\"purple\", linewidth=1, linestyle='--')                                                                   # The Frequentist versoin\n",
    "ax.plot(xnew, upperPI, c=\"purple\", linewidth=1, linestyle='--')\n",
    "ax.set_xlabel(\"x\")\n",
    "ax.set_ylabel(\"y\")"
   ]
  },
  {
   "attachments": {},
   "cell_type": "markdown",
   "metadata": {},
   "source": [
    "Back to [contents](#Contents)."
   ]
  },
  {
   "attachments": {},
   "cell_type": "markdown",
   "metadata": {},
   "source": [
    "---"
   ]
  },
  {
   "attachments": {},
   "cell_type": "markdown",
   "metadata": {},
   "source": [
    "## Linear regression using a design matrix with PyMC"
   ]
  },
  {
   "attachments": {},
   "cell_type": "markdown",
   "metadata": {},
   "source": [
    "A synthetic dataset using a simply polynomial model:"
   ]
  },
  {
   "cell_type": "code",
   "execution_count": null,
   "metadata": {},
   "outputs": [],
   "source": [
    "rng = np.random.default_rng(14)\n",
    "\n",
    "N = 50\n",
    "theta0 = 1\n",
    "theta1 = -0.5\n",
    "theta2 = 0.05\n",
    "theta3 = 0.005\n",
    "sigma = 0.3\n",
    "\n",
    "x = np.sort(rng.uniform(0,10,N))\n",
    "y = theta0 + theta1 * x + theta2 * x**2 + theta3 * x**3 + rng.normal(0.0, sigma, N)"
   ]
  },
  {
   "cell_type": "code",
   "execution_count": null,
   "metadata": {},
   "outputs": [],
   "source": [
    "fig, ax = plt.subplots(1,1, figsize=(8,6))\n",
    "ax.scatter(x, y, s=20)\n",
    "ax.set_xlabel(\"x\")\n",
    "ax.set_ylabel(\"y\")\n",
    "ax.grid(True, color='gainsboro', linestyle='-', linewidth=0.5)\n",
    "plt.show()"
   ]
  },
  {
   "attachments": {},
   "cell_type": "markdown",
   "metadata": {},
   "source": [
    "The PyMC model using the matrix notation for our linear model with the design matrix $X$:"
   ]
  },
  {
   "attachments": {},
   "cell_type": "markdown",
   "metadata": {},
   "source": [
    "$X_{n,m} = x_n^m$\n",
    "\n",
    "$\\mu = X\\cdot\\theta$\n",
    "\n",
    "$\\theta_i = {\\rm Normal}(0, 2)$\n",
    "\n",
    "$\\sigma \\sim {\\rm HalfCauchy}(\\beta=3)$\n",
    "\n",
    "$y \\sim {\\rm Normal}(\\mu, \\sigma)$\n"
   ]
  },
  {
   "attachments": {},
   "cell_type": "markdown",
   "metadata": {},
   "source": [
    "The following code can be pretty slow."
   ]
  },
  {
   "cell_type": "code",
   "execution_count": null,
   "metadata": {},
   "outputs": [],
   "source": [
    "with pm.Model() as myModel:\n",
    "    \n",
    "    xobs = pm.MutableData(\"xobs\", x)\n",
    "    yobs = pm.MutableData(\"yobs\", y)\n",
    "    \n",
    "    sigma = pm.HalfCauchy(\"sigma\", beta=3)\n",
    "    theta = pm.Normal('theta', mu=0.0, sigma=2.0, size=4)                        # 3rd order polynomial implies 4 coefficients \n",
    "    X_ = [xobs**k for k in range(4)]\n",
    "    X = pt.stack(X_, axis=1)\n",
    "\n",
    "    likelihood = pm.Normal(\"y\", mu=pt.dot(X, theta), sigma=sigma, observed=yobs)\n",
    "\n",
    "    trace = pm.sample(3000, chains=4, cores=2, return_inferencedata=True, target_accept=0.98)"
   ]
  },
  {
   "attachments": {},
   "cell_type": "markdown",
   "metadata": {},
   "source": [
    "Always check the trace(s):"
   ]
  },
  {
   "cell_type": "code",
   "execution_count": null,
   "metadata": {},
   "outputs": [],
   "source": [
    "ax = az.plot_trace(trace)"
   ]
  },
  {
   "attachments": {},
   "cell_type": "markdown",
   "metadata": {},
   "source": [
    "From the summary it becomes obvious that not all coefficients are significant:"
   ]
  },
  {
   "cell_type": "code",
   "execution_count": null,
   "metadata": {},
   "outputs": [],
   "source": [
    "az.summary(trace, hdi_prob=0.95, round_to=5)"
   ]
  },
  {
   "attachments": {},
   "cell_type": "markdown",
   "metadata": {},
   "source": [
    "The mean of 1 coefficient can be extracted with, for example:"
   ]
  },
  {
   "cell_type": "code",
   "execution_count": null,
   "metadata": {},
   "outputs": [],
   "source": [
    "pm.summary(trace)['mean']['theta[0]']"
   ]
  },
  {
   "attachments": {},
   "cell_type": "markdown",
   "metadata": {},
   "source": [
    "As usual for polynomial regression, the coefficients are highly correlated."
   ]
  },
  {
   "cell_type": "code",
   "execution_count": null,
   "metadata": {},
   "outputs": [],
   "source": [
    "fig, ax = plt.subplots(5,5, figsize=(8,8))                                       # 3 because we're showing 3 params\n",
    "fig = corner.corner(trace, fig=fig, quantiles=[0.16, 0.5, 0.84], show_titles=True, title_kwargs={\"fontsize\": 12})"
   ]
  },
  {
   "attachments": {},
   "cell_type": "markdown",
   "metadata": {},
   "source": [
    "Back to [contents](#Contents)."
   ]
  },
  {
   "attachments": {},
   "cell_type": "markdown",
   "metadata": {},
   "source": [
    "---"
   ]
  },
  {
   "attachments": {},
   "cell_type": "markdown",
   "metadata": {},
   "source": [
    "## Basic linear regression with Stan"
   ]
  },
  {
   "attachments": {},
   "cell_type": "markdown",
   "metadata": {},
   "source": [
    "We use the same dataset and the same Bayesian model as in the previous example with PyMC3."
   ]
  },
  {
   "cell_type": "code",
   "execution_count": null,
   "metadata": {},
   "outputs": [],
   "source": [
    "rng = np.random.default_rng(14)\n",
    "\n",
    "N = 50\n",
    "theta0 = 1\n",
    "theta1 = 2\n",
    "sigma = 0.3\n",
    "\n",
    "x = np.linspace(0, 1, N)\n",
    "y = theta0 + theta1 * x + rng.normal(0.0, sigma, N)"
   ]
  },
  {
   "cell_type": "code",
   "execution_count": null,
   "metadata": {},
   "outputs": [],
   "source": [
    "Nnew = 30\n",
    "xnew = np.linspace(0, 1, Nnew)                        # x-values for the posterior prediction "
   ]
  },
  {
   "attachments": {},
   "cell_type": "markdown",
   "metadata": {},
   "source": [
    "The statements with `Nnew`, `xnew`, and `ynew` are only necessary if you want to do posterior predictive sampling."
   ]
  },
  {
   "cell_type": "code",
   "execution_count": null,
   "metadata": {},
   "outputs": [],
   "source": [
    "code = \"\"\"\n",
    "data {\n",
    "  int<lower=1> N;\n",
    "  vector[N] x;\n",
    "  vector[N] y;\n",
    "  int<lower=1> Nnew;\n",
    "  vector[Nnew] xnew;\n",
    "}\n",
    "\n",
    "parameters {\n",
    "  real intercept;\n",
    "  real<lower=-pi()/2, upper=+pi()/2> angle;\n",
    "  real<lower=0> sigma;\n",
    "}\n",
    "\n",
    "transformed parameters{ \n",
    "  real slope;\n",
    "  slope = tan(angle);\n",
    "}\n",
    "\n",
    "model {\n",
    "  intercept ~ normal(0, 20);\n",
    "  angle     ~ uniform(-pi()/2, +pi()/2);\n",
    "  sigma     ~ cauchy(0, 3.0);\n",
    "  y         ~ normal(intercept + slope * x, sigma);\n",
    "}\n",
    "\n",
    "generated quantities {\n",
    "  real ynew[Nnew] = normal_rng(intercept + slope * xnew, sigma);\n",
    "}\n",
    "\"\"\""
   ]
  },
  {
   "cell_type": "code",
   "execution_count": null,
   "metadata": {},
   "outputs": [],
   "source": [
    "myData = {\"N\": N, \"x\": x, \"y\": y, 'Nnew': Nnew, 'xnew': xnew}"
   ]
  },
  {
   "cell_type": "code",
   "execution_count": null,
   "metadata": {
    "scrolled": true
   },
   "outputs": [],
   "source": [
    "model = stan.build(code, data=myData, random_seed=135)"
   ]
  },
  {
   "attachments": {},
   "cell_type": "markdown",
   "metadata": {},
   "source": [
    "The following initialValues are usually redundant, as Stan is pretty good in choosing reasonable values on its own. I include the example, just in case you do want to experiment with initial values. Note that you need to give initial values for each chain (hence 4 dictionary in the list below), and the initial values need to be within the lower/upper constraints you specified in the model above. It's usually **not** a great idea to initialize the sampler with the MAP estimates."
   ]
  },
  {
   "cell_type": "code",
   "execution_count": null,
   "metadata": {},
   "outputs": [],
   "source": [
    "initialValues = [{'intercept': 1, 'angle':np.pi/2.1}, {\"intercept\": 2, 'angle': np.pi/2.1}, \n",
    "                 {'intercept': 1, 'angle':np.pi/2.3}, {\"intercept\": 1.5, 'angle': np.pi/2.5}]"
   ]
  },
  {
   "cell_type": "code",
   "execution_count": null,
   "metadata": {},
   "outputs": [],
   "source": [
    "trace = model.sample(num_chains=4, num_samples=3000, num_warmup=1000, init=initialValues)"
   ]
  },
  {
   "cell_type": "code",
   "execution_count": null,
   "metadata": {},
   "outputs": [],
   "source": [
    "ax = az.plot_trace(trace)"
   ]
  },
  {
   "cell_type": "code",
   "execution_count": null,
   "metadata": {},
   "outputs": [],
   "source": [
    "az.summary(trace, var_names=['intercept', 'slope', 'sigma'], round_to=5)"
   ]
  },
  {
   "attachments": {},
   "cell_type": "markdown",
   "metadata": {},
   "source": [
    "Make a plot with the data, the median of the posterior, and the 2.5% and 97.5% quantiles of the posterior."
   ]
  },
  {
   "cell_type": "code",
   "execution_count": null,
   "metadata": {},
   "outputs": [],
   "source": [
    "median = np.quantile(trace['ynew'], 0.5, axis=1)\n",
    "lowerQuantile = np.quantile(trace['ynew'], 0.025, axis=1)\n",
    "upperQuantile = np.quantile(trace['ynew'], 0.975, axis=1)"
   ]
  },
  {
   "cell_type": "code",
   "execution_count": null,
   "metadata": {},
   "outputs": [],
   "source": [
    "fig, ax = plt.subplots(1,1, figsize=(10,6)) \n",
    "ax.scatter(x,y, s=10)\n",
    "ax.plot(xnew, median, c=\"red\", linewidth=1.5)\n",
    "ax.fill_between(xnew, lowerQuantile, upperQuantile, color=\"lightblue\", alpha=0.2)\n",
    "ax.set_xlabel(\"x\")\n",
    "ax.set_ylabel(\"y\")\n",
    "ax.set_xlim(0,1)\n",
    "plt.show()"
   ]
  },
  {
   "attachments": {},
   "cell_type": "markdown",
   "metadata": {},
   "source": [
    "Back to [contents](#Contents)."
   ]
  },
  {
   "attachments": {},
   "cell_type": "markdown",
   "metadata": {},
   "source": [
    "---"
   ]
  },
  {
   "attachments": {},
   "cell_type": "markdown",
   "metadata": {},
   "source": [
    "## Robust regression using a StudentT likelihood with PyMC"
   ]
  },
  {
   "attachments": {},
   "cell_type": "markdown",
   "metadata": {},
   "source": [
    "Create a synthetic dataset with outliers:"
   ]
  },
  {
   "cell_type": "code",
   "execution_count": null,
   "metadata": {},
   "outputs": [],
   "source": [
    "rng = np.random.default_rng(82)\n",
    "N = 30\n",
    "x = np.linspace(0, 20, N)\n",
    "theta0 = 5\n",
    "theta1 = 1\n",
    "theta2 = 0.0001\n",
    "mu = theta0 + theta1 * x + theta2 * (x-5)**2     # noiseless\n",
    "sigma = 1.0                                      # Stdev of the noise\n",
    "y = mu + rng.normal(0, sigma, N)                 # with noise\n",
    "y[[0, 2, 7]] += 9                                # 3 outliers\n",
    "y[[19,21,23,25,28]] -= 9                         # 5 more outliers\n",
    "data = pd.DataFrame({'y': y, 'x': x})"
   ]
  },
  {
   "cell_type": "code",
   "execution_count": null,
   "metadata": {},
   "outputs": [],
   "source": [
    "fig, ax = plt.subplots(1,1, figsize=(10,6))\n",
    "ax.scatter(x, y, s=20)\n",
    "ax.set_xlabel(\"x\")\n",
    "ax.set_ylabel(\"y\")\n",
    "ax.grid(True, color='gainsboro', linestyle='-', linewidth=0.5)\n",
    "plt.show()"
   ]
  },
  {
   "attachments": {},
   "cell_type": "markdown",
   "metadata": {},
   "source": [
    "#### The non-robust Bayesian model"
   ]
  },
  {
   "attachments": {},
   "cell_type": "markdown",
   "metadata": {},
   "source": [
    "$\\mu = \\theta_0+\\theta_1 x$\n",
    "\n",
    "$\\theta_1 = \\tan(\\alpha)$\n",
    "\n",
    "$\\alpha \\sim {\\rm Uniform}(-\\pi/2, +\\pi/2)$ \n",
    "\n",
    "$\\theta_0 \\sim {\\rm Normal}(0, 20)$\n",
    "\n",
    "$\\sigma \\sim {\\rm HalfCauchy}(\\beta=3)$\n",
    "\n",
    "$y \\sim {\\rm Normal}(\\mu, \\sigma)$"
   ]
  },
  {
   "cell_type": "code",
   "execution_count": null,
   "metadata": {},
   "outputs": [],
   "source": [
    "with pm.Model() as myModel:\n",
    "    \n",
    "    xobs      = pm.Data(\"xobs\", x)\n",
    "    yobs      = pm.Data(\"yobs\", y)\n",
    "    sigma     = pm.HalfCauchy(\"sigma\", beta=3)\n",
    "    intercept = pm.Normal(\"intercept\", 0, sigma=20)\n",
    "    angle     = pm.Uniform(\"angle\", -np.pi/2, +np.pi/2)\n",
    "    slope     = pm.Deterministic('slope', np.tan(angle))\n",
    "    \n",
    "    likelihood = pm.Normal(\"y\", mu=intercept + slope * xobs, sigma=sigma, observed=yobs)\n",
    "\n",
    "    trace = pm.sample(3000, chains=4, cores=2, return_inferencedata=True)"
   ]
  },
  {
   "cell_type": "code",
   "execution_count": null,
   "metadata": {},
   "outputs": [],
   "source": [
    "ax = az.plot_trace(trace, var_names=['intercept', 'slope', 'sigma'])"
   ]
  },
  {
   "attachments": {},
   "cell_type": "markdown",
   "metadata": {},
   "source": [
    "Note the way too high value of $\\sigma$."
   ]
  },
  {
   "cell_type": "code",
   "execution_count": null,
   "metadata": {},
   "outputs": [],
   "source": [
    "posteriorMean = pm.summary(trace, var_names=['intercept', 'slope', 'sigma'])['mean']\n",
    "meanIntercept = posteriorMean.intercept\n",
    "meanSlope = posteriorMean.slope"
   ]
  },
  {
   "cell_type": "code",
   "execution_count": null,
   "metadata": {},
   "outputs": [],
   "source": [
    "fig, ax = plt.subplots(1,1, figsize=(10,6))\n",
    "ax.scatter(x, y, s=20, label=\"data\")\n",
    "\n",
    "xvalues = np.linspace(0,20,50)\n",
    "yvalues = meanIntercept + meanSlope * xvalues\n",
    "ax.plot(xvalues, yvalues, c=\"red\", linewidth=2, label=\"non-robust posterior\")\n",
    "\n",
    "ytrue = theta0 + theta1 * xvalues + theta2 * (xvalues-5)**2\n",
    "ax.plot(xvalues, ytrue, c=\"purple\", linewidth=2, linestyle='--', alpha=0.5, label=\"true relation\")\n",
    "\n",
    "ax.legend(loc='upper left')\n",
    "\n",
    "ax.set_xlabel(\"x\")\n",
    "ax.set_ylabel(\"y\")\n",
    "ax.grid(True, color='gainsboro', linestyle='-', linewidth=0.5)\n",
    "plt.show()"
   ]
  },
  {
   "attachments": {},
   "cell_type": "markdown",
   "metadata": {},
   "source": [
    "#### A more robust Bayesian model"
   ]
  },
  {
   "attachments": {},
   "cell_type": "markdown",
   "metadata": {},
   "source": [
    "We use the Student's T-distribution instead of a Gaussian distribution for the likelihood:"
   ]
  },
  {
   "attachments": {},
   "cell_type": "markdown",
   "metadata": {},
   "source": [
    "$\\mu = \\theta_0+\\theta_1 x$\n",
    "\n",
    "$\\theta_1 = \\tan(\\alpha)$\n",
    "\n",
    "$\\alpha \\sim {\\rm Uniform}(-\\pi/2, +\\pi/2)$ \n",
    "\n",
    "$\\theta_0 \\sim {\\rm Normal}(0, 20)$\n",
    "\n",
    "$\\sigma \\sim {\\rm HalfCauchy}(\\beta=3)$\n",
    "\n",
    "$y \\sim {\\rm T}(\\mu, \\sigma, \\nu=1)$"
   ]
  },
  {
   "attachments": {},
   "cell_type": "markdown",
   "metadata": {},
   "source": [
    "Note that the T-distribution with $\\nu=1$ is the Cauchy distribution which has very broad tails."
   ]
  },
  {
   "cell_type": "code",
   "execution_count": null,
   "metadata": {},
   "outputs": [],
   "source": [
    "with pm.Model() as myModel:\n",
    "    \n",
    "    xobs      = pm.Data(\"xobs\", x)\n",
    "    yobs      = pm.Data(\"yobs\", y)\n",
    "    sigma     = pm.HalfCauchy(\"sigma\", beta=3)\n",
    "    intercept = pm.Normal(\"intercept\", 0, sigma=20)\n",
    "    angle     = pm.Uniform(\"angle\", -np.pi/2, +np.pi/2)\n",
    "    slope     = pm.Deterministic('slope', np.tan(angle))\n",
    "    \n",
    "    likelihood = pm.StudentT('y', nu=1, mu=intercept + slope * xobs, sigma=sigma, observed=yobs)\n",
    "\n",
    "    trace = pm.sample(3000, chains=4, cores=2, return_inferencedata=True)"
   ]
  },
  {
   "cell_type": "code",
   "execution_count": null,
   "metadata": {},
   "outputs": [],
   "source": [
    "ax = az.plot_trace(trace, var_names=['intercept', 'slope', 'sigma'])"
   ]
  },
  {
   "cell_type": "code",
   "execution_count": null,
   "metadata": {},
   "outputs": [],
   "source": [
    "posteriorMean = pm.summary(trace, var_names=['intercept', 'slope', 'sigma'])['mean']\n",
    "meanIntercept = posteriorMean.intercept\n",
    "meanSlope = posteriorMean.slope"
   ]
  },
  {
   "cell_type": "code",
   "execution_count": null,
   "metadata": {},
   "outputs": [],
   "source": [
    "fig, ax = plt.subplots(1,1, figsize=(10,6))\n",
    "ax.scatter(x, y, s=20, label=\"data\")\n",
    "\n",
    "xvalues = np.linspace(0,20,50)\n",
    "yvalues = meanIntercept + meanSlope * xvalues\n",
    "ax.plot(xvalues, yvalues, c=\"red\", linewidth=2, label=\"Robust posterior\")\n",
    "\n",
    "ytrue = theta0 + theta1 * xvalues + theta2 * (xvalues-5)**2\n",
    "ax.plot(xvalues, ytrue, c=\"purple\", linewidth=2, linestyle='--', alpha=0.5, label=\"true relation\")\n",
    "\n",
    "ax.legend(loc='upper left')\n",
    "\n",
    "ax.set_xlabel(\"x\")\n",
    "ax.set_ylabel(\"y\")\n",
    "ax.grid(True, color='gainsboro', linestyle='-', linewidth=0.5)\n",
    "plt.show()"
   ]
  },
  {
   "attachments": {},
   "cell_type": "markdown",
   "metadata": {},
   "source": [
    "One can try different values for the parameter $\\nu$ of the T-distribution and do a sensitivity analysis. Alternatively, one can include a hyperprior distribution for $\\nu$. Gelman et al. (2003) suggests that one might try\n",
    "\n",
    "$$ \\nu^{-1} \\sim {\\rm Uniform}(0,1) $$\n",
    "\n",
    "This hyperprior distribution favors long-tailed likelihoods, with half of the prior probability falling between $T(\\nu=1)$ and $T(\\nu=2)$."
   ]
  },
  {
   "attachments": {},
   "cell_type": "markdown",
   "metadata": {},
   "source": [
    "Back to [contents](#Contents)."
   ]
  },
  {
   "attachments": {},
   "cell_type": "markdown",
   "metadata": {},
   "source": [
    "---"
   ]
  },
  {
   "attachments": {},
   "cell_type": "markdown",
   "metadata": {},
   "source": [
    "## Robust regression using the Hogg approach with PyMC"
   ]
  },
  {
   "attachments": {},
   "cell_type": "markdown",
   "metadata": {},
   "source": [
    "We use the same outlier dataset as in the previous example:"
   ]
  },
  {
   "cell_type": "code",
   "execution_count": null,
   "metadata": {},
   "outputs": [],
   "source": [
    "rng = np.random.default_rng(82)\n",
    "N = 30\n",
    "x = np.linspace(0, 20, N)\n",
    "theta0 = 5\n",
    "theta1 = 1\n",
    "theta2 = 0.0001\n",
    "mu = theta0 + theta1 * x + theta2 * (x-5)**2     # noiseless\n",
    "sigma = 1.0                                      # Stdev of the noise\n",
    "y = mu + rng.normal(0, sigma, N)                 # with noise\n",
    "y[[0, 2, 7]] += 9                                # 3 outliers\n",
    "y[[19,21,23,25,28]] -= 9                         # 5 more outliers\n",
    "data = pd.DataFrame({'y': y, 'x': x})"
   ]
  },
  {
   "attachments": {},
   "cell_type": "markdown",
   "metadata": {},
   "source": [
    "The following code was inspired by the article of [Hogg et al. (2010)](https://arxiv.org/pdf/1008.4686v1.pdf). In particular, see their equation (17). This involves implementing a custom likelihood function using the `pm.DensityDist` feature."
   ]
  },
  {
   "cell_type": "code",
   "execution_count": null,
   "metadata": {},
   "outputs": [],
   "source": [
    "with pm.Model() as myModel:\n",
    "    \n",
    "    xobs = pm.Data(\"xobs\", x)\n",
    "    yobs = pm.Data(\"yobs\", y)\n",
    "    \n",
    "    sigmaInlier     = pm.HalfCauchy(\"sigma\", beta=3)\n",
    "    intercept       = pm.Normal(\"intercept\", 0, sigma=10)\n",
    "    angle           = pm.Uniform(\"angle\", -np.pi/2, +np.pi/2)\n",
    "    slope           = pm.Deterministic(\"slope\", np.tan(angle))   \n",
    "    muOutlier       = pm.Uniform(\"muOutlier\", -100, +100, initval=0)\n",
    "    logSigmaOutlier = pm.Uniform(\"logSigmaOutlier\", -5, 5, initval=2)\n",
    "    probOutlier     = pm.Uniform(\"probOutlier\", 0.0, 1.0, initval=0.1) \n",
    "    \n",
    "    def logLikelihood(y, x, sigmaInlier, intercept, angle, slope, muOutlier, logSigmaOutlier, probOutlier):\n",
    "        sigmaOutlier = pt.sqrt(pt.exp(logSigmaOutlier)**2 + sigmaInlier**2) \n",
    "        muInlier = intercept + slope * x\n",
    "        LikeInlier = 1./(sigmaInlier * np.sqrt(2*np.pi)) * pt.exp(-0.5 * (y - muInlier)**2 / sigmaInlier**2)\n",
    "        LikeOutlier = 1./(sigmaOutlier * np.sqrt(2*np.pi)) * pt.exp(-0.5 * (y - muOutlier)**2 / sigmaOutlier**2)\n",
    "        return pt.sum(pt.log((1 - probOutlier) * LikeInlier + probOutlier * LikeOutlier))\n",
    "\n",
    "    # Exact order of the arguments in logLiklihood should be copied in DensityDist. \n",
    "    likelihood = pm.DensityDist('likelihood', xobs, sigmaInlier, intercept, angle, slope, muOutlier, \n",
    "                                logSigmaOutlier, probOutlier, logp=logLikelihood, observed=yobs)\n",
    "\n",
    "    trace = pm.sample(4000, chains=4, cores=2, return_inferencedata=True, tune=2000, target_accept=0.95)"
   ]
  },
  {
   "attachments": {},
   "cell_type": "markdown",
   "metadata": {},
   "source": [
    "Note that I needed to increase the acceptance probability to 0.95. PyMC will adapt the step size such that the average acceptance probability across the trajectories is close to `target_accept`. So, higher values for `target_accept` lead to smaller step sizes."
   ]
  },
  {
   "cell_type": "code",
   "execution_count": null,
   "metadata": {},
   "outputs": [],
   "source": [
    "ax = az.plot_trace(trace)"
   ]
  },
  {
   "cell_type": "code",
   "execution_count": null,
   "metadata": {},
   "outputs": [],
   "source": [
    "posteriorMean = pm.summary(trace, var_names=['intercept', 'slope'])['mean']\n",
    "meanIntercept = posteriorMean.intercept\n",
    "meanSlope = posteriorMean.slope"
   ]
  },
  {
   "cell_type": "code",
   "execution_count": null,
   "metadata": {},
   "outputs": [],
   "source": [
    "fig, ax = plt.subplots(1,1, figsize=(10,6))\n",
    "ax.scatter(x, y, s=20, label=\"data\")\n",
    "\n",
    "xvalues = np.linspace(0,20,50)\n",
    "yvalues = meanIntercept + meanSlope * xvalues\n",
    "ax.plot(xvalues, yvalues, c=\"red\", linewidth=2, label=\"Robust posterior\")\n",
    "\n",
    "ytrue = theta0 + theta1 * xvalues + theta2 * (xvalues-5)**2\n",
    "ax.plot(xvalues, ytrue, c=\"purple\", linewidth=2, linestyle='--', alpha=0.5, label=\"true relation\")\n",
    "\n",
    "ax.legend(loc='upper left')\n",
    "\n",
    "ax.set_xlabel(\"x\")\n",
    "ax.set_ylabel(\"y\")\n",
    "ax.grid(True, color='gainsboro', linestyle='-', linewidth=0.5)\n",
    "plt.show()"
   ]
  },
  {
   "attachments": {},
   "cell_type": "markdown",
   "metadata": {},
   "source": [
    "Back to [contents](#Contents)."
   ]
  },
  {
   "attachments": {},
   "cell_type": "markdown",
   "metadata": {},
   "source": [
    "---"
   ]
  },
  {
   "attachments": {},
   "cell_type": "markdown",
   "metadata": {},
   "source": [
    "## Robust regression using the Hogg approach with Stan"
   ]
  },
  {
   "cell_type": "code",
   "execution_count": null,
   "metadata": {},
   "outputs": [],
   "source": [
    "rng = np.random.default_rng(82)\n",
    "N = 30\n",
    "x = np.linspace(0, 20, N)\n",
    "theta0 = 5\n",
    "theta1 = 1\n",
    "theta2 = 0.0001\n",
    "mu = theta0 + theta1 * x + theta2 * (x-5)**2     # noiseless\n",
    "sigma = 1.0                                      # Stdev of the noise\n",
    "y = mu + rng.normal(0, sigma, N)                 # with noise\n",
    "y[[0, 2, 7]] += 9                                # 3 outliers\n",
    "y[[19,21,23,25,28]] -= 9                         # 5 more outliers"
   ]
  },
  {
   "attachments": {},
   "cell_type": "markdown",
   "metadata": {},
   "source": [
    "The way to make a custom likelihood is to define a function of the form\n",
    "\n",
    "`real xxxx_lpdf(real y, ...)`\n",
    "\n",
    "that contains the log-likelihood. However, when using the function, the `_lpdf` extenstion as well as the first argument `y` is ommitted."
   ]
  },
  {
   "cell_type": "code",
   "execution_count": null,
   "metadata": {},
   "outputs": [],
   "source": [
    "code = \"\"\"\n",
    "functions {\n",
    "\n",
    "  real likelihood_lpdf(real y, real x, real sigmaOutlier, real muOutlier, real sigmaInlier, real probOutlier, real intercept, real slope) \n",
    "  {\n",
    "     real muInlier;\n",
    "     real likeInlier;\n",
    "     real likeOutlier;\n",
    "     real logLike;\n",
    "     \n",
    "     muInlier = intercept + slope * x;\n",
    "     likeInlier  = 1./(sigmaInlier  * sqrt(2*pi())) * exp(-0.5 * square(y - muInlier) / square(sigmaInlier));\n",
    "     likeOutlier = 1./(sigmaOutlier * sqrt(2*pi())) * exp(-0.5 * square(y - muOutlier) / square(sigmaOutlier));  \n",
    "     logLike = log((1-probOutlier) * likeInlier + probOutlier * likeOutlier);\n",
    "     \n",
    "     return logLike; \n",
    "  }\n",
    "}\n",
    "\n",
    "data {\n",
    "  int<lower=1> N;\n",
    "  vector[N] x;\n",
    "  vector[N] y;\n",
    "}\n",
    "\n",
    "parameters {\n",
    "  real intercept;\n",
    "  real<lower=-pi()/2, upper=+pi()/2> angle;\n",
    "  real<lower=0> sigmaInlier;\n",
    "  real logSigmaOutlier;\n",
    "  real muOutlier;\n",
    "  real<lower=0, upper=1> probOutlier;\n",
    "}\n",
    "\n",
    "transformed parameters{ \n",
    "  real slope;\n",
    "  slope = tan(angle);\n",
    "  real sigmaOutlier;\n",
    "  sigmaOutlier = sqrt(square(exp(logSigmaOutlier)) + square(sigmaInlier));\n",
    "}\n",
    "\n",
    "model {\n",
    "  intercept       ~ normal(0, 10);\n",
    "  angle           ~ uniform(-pi()/2, +pi()/2);\n",
    "  sigmaInlier     ~ cauchy(0, 2.0);\n",
    "  muOutlier       ~ uniform(-10, 50);\n",
    "  logSigmaOutlier ~ uniform(-0.1, 3);\n",
    "  probOutlier     ~ uniform(0,1);\n",
    "  \n",
    "  for (i in 1:N) {\n",
    "      y[i] ~ likelihood(x[i], sigmaOutlier, muOutlier, sigmaInlier, probOutlier, intercept, slope);\n",
    "  }\n",
    "}\n",
    "\"\"\""
   ]
  },
  {
   "cell_type": "code",
   "execution_count": null,
   "metadata": {},
   "outputs": [],
   "source": [
    "myData = {\"N\": N, \"x\": x, \"y\": y}"
   ]
  },
  {
   "cell_type": "code",
   "execution_count": null,
   "metadata": {},
   "outputs": [],
   "source": [
    "model = stan.build(code, data=myData, random_seed=135)"
   ]
  },
  {
   "cell_type": "code",
   "execution_count": null,
   "metadata": {},
   "outputs": [],
   "source": [
    "trace = model.sample(num_chains=4, num_samples=3000, num_warmup=3000, delta=0.99)"
   ]
  },
  {
   "cell_type": "code",
   "execution_count": null,
   "metadata": {},
   "outputs": [],
   "source": [
    "ax = az.plot_trace(trace)"
   ]
  },
  {
   "cell_type": "code",
   "execution_count": null,
   "metadata": {},
   "outputs": [],
   "source": [
    "traceframe = trace.to_frame()\n",
    "print(\"Nr of divergences: \", traceframe['divergent__'].sum())"
   ]
  },
  {
   "cell_type": "code",
   "execution_count": null,
   "metadata": {},
   "outputs": [],
   "source": [
    "meanIntercept = np.mean(trace['intercept'])\n",
    "meanSlope = np.mean(trace['slope'])"
   ]
  },
  {
   "cell_type": "code",
   "execution_count": null,
   "metadata": {},
   "outputs": [],
   "source": [
    "fig, ax = plt.subplots(1,1, figsize=(10,6)) \n",
    "ax.scatter(x,y, s=10, label=\"data\")\n",
    "\n",
    "xvalues = np.linspace(0, 20, 30)\n",
    "yvalues = meanIntercept + meanSlope * xvalues;\n",
    "ax.plot(xvalues, yvalues, c=\"red\", linewidth=1.5, label=\"robust posterior\")\n",
    "\n",
    "ytrue = theta0 + theta1 * xvalues + theta2 * (xvalues-5)**2\n",
    "ax.plot(xvalues, ytrue, c=\"purple\", linewidth=2, linestyle='--', alpha=0.5, label=\"true relation\")\n",
    "\n",
    "ax.legend(loc='upper left')\n",
    "ax.set_xlabel(\"x\")\n",
    "ax.set_ylabel(\"y\")\n",
    "plt.show()"
   ]
  },
  {
   "attachments": {},
   "cell_type": "markdown",
   "metadata": {},
   "source": [
    "Back to [contents](#Contents)."
   ]
  },
  {
   "attachments": {},
   "cell_type": "markdown",
   "metadata": {},
   "source": [
    "---"
   ]
  },
  {
   "attachments": {},
   "cell_type": "markdown",
   "metadata": {},
   "source": [
    "## Piecewise linear regression with PyMC"
   ]
  },
  {
   "attachments": {},
   "cell_type": "markdown",
   "metadata": {},
   "source": [
    "Create an artificial dataset"
   ]
  },
  {
   "cell_type": "code",
   "execution_count": null,
   "metadata": {},
   "outputs": [],
   "source": [
    "rng = np.random.default_rng(149)\n",
    "\n",
    "N = 50\n",
    "intercept1 = 1\n",
    "slope1 = 2\n",
    "intercept2 = 3.275\n",
    "slope2 = -1.5\n",
    "\n",
    "sigma = 0.15\n",
    "\n",
    "x = np.linspace(0, 2, N)\n",
    "\n",
    "piece1 = x < 0.65\n",
    "piece2 = x >= 0.65\n",
    "y = np.zeros(N)\n",
    "y[piece1] = intercept1 + slope1 * x[piece1] \n",
    "y[piece2] = intercept2 + slope2 * x[piece2] \n",
    "y += rng.normal(0.0, sigma, N)"
   ]
  },
  {
   "cell_type": "code",
   "execution_count": null,
   "metadata": {},
   "outputs": [],
   "source": [
    "fig, ax = plt.subplots(1,1, figsize=(10,6))\n",
    "ax.scatter(x, y, s=10)\n",
    "ax.set_xlabel(\"x\")\n",
    "ax.set_ylabel(\"y\")\n",
    "ax.grid(True, color='gainsboro', linestyle='-', linewidth=0.5)\n",
    "plt.show()"
   ]
  },
  {
   "attachments": {},
   "cell_type": "markdown",
   "metadata": {},
   "source": [
    "The goal is not only to derive the intercepts and the slopes of the linear pieces, but also the location of the switch point."
   ]
  },
  {
   "attachments": {},
   "cell_type": "markdown",
   "metadata": {},
   "source": [
    "Our Bayesian model:\n",
    "\n",
    "$\\mu = \\theta_0+\\theta_1 x$   if $x <= x_0$\n",
    "\n",
    "$\\mu = \\theta_2+\\theta_3 x$   if $x > x_0$\n",
    "\n",
    "$\\theta_1 = \\tan(\\alpha_1)$\n",
    "\n",
    "$\\theta_3 = \\tan(\\alpha_2)$\n",
    "\n",
    "$\\alpha_1 \\sim {\\rm Uniform}(0, \\pi/2)$ \n",
    "\n",
    "$\\alpha_2 \\sim {\\rm Uniform}(-\\pi/2, 0)$ \n",
    "\n",
    "$\\theta_0 \\sim {\\rm Normal}(0, 5)$\n",
    "\n",
    "$\\theta_2 \\sim {\\rm Normal}(0, 5)$\n",
    "\n",
    "$\\sigma \\sim {\\rm HalfCauchy}(\\beta=3)$\n",
    "\n",
    "$y \\sim {\\rm Normal}(\\mu, \\sigma)$"
   ]
  },
  {
   "cell_type": "code",
   "execution_count": null,
   "metadata": {},
   "outputs": [],
   "source": [
    "with pm.Model() as myModel:\n",
    "\n",
    "    xobs        = pm.Data(\"xobs\", x, mutable=False)\n",
    "    yobs        = pm.Data(\"yobs\", y, mutable=False)\n",
    "    sigma       = pm.HalfCauchy(\"sigma\", beta=2)\n",
    "    intercept1  = pm.Normal(\"intercept1\", 0, sigma=5)\n",
    "    intercept2  = pm.Normal(\"intercept2\", 0, sigma=5)\n",
    "    angle1      = pm.Uniform(\"angle1\", 0, +np.pi/2)\n",
    "    angle2      = pm.Uniform(\"angle2\", -np.pi/2, 0)\n",
    "    slope1      = pm.Deterministic('slope1', np.tan(angle1))\n",
    "    slope2      = pm.Deterministic('slope2', np.tan(angle2))\n",
    "    switchpoint = pm.Normal('switchpoint', 0.6, 0.25) \n",
    "    intercept   = pm.math.switch(x <= switchpoint, intercept1, intercept2)\n",
    "    slope       = pm.math.switch(x <= switchpoint, slope1, slope2)\n",
    "    \n",
    "    likelihood = pm.Normal(\"y\", mu=intercept + slope * xobs, sigma=sigma, observed=yobs)\n",
    "\n",
    "    trace = pm.sample(2000, chains=4, cores=2, return_inferencedata=True)"
   ]
  },
  {
   "cell_type": "code",
   "execution_count": null,
   "metadata": {},
   "outputs": [],
   "source": [
    "ax = az.plot_trace(trace, var_names=['intercept1', 'slope1', 'intercept2', 'slope2', 'switchpoint'])"
   ]
  },
  {
   "cell_type": "code",
   "execution_count": null,
   "metadata": {},
   "outputs": [],
   "source": [
    "az.summary(trace, round_to=3)"
   ]
  },
  {
   "attachments": {},
   "cell_type": "markdown",
   "metadata": {},
   "source": [
    "Back to [contents](#Contents)."
   ]
  },
  {
   "attachments": {},
   "cell_type": "markdown",
   "metadata": {},
   "source": [
    "---"
   ]
  },
  {
   "attachments": {},
   "cell_type": "markdown",
   "metadata": {},
   "source": [
    "## Piecewise linear regression with Stan"
   ]
  },
  {
   "attachments": {},
   "cell_type": "markdown",
   "metadata": {},
   "source": [
    "We use the same dataset and Bayesian model as in the previous example."
   ]
  },
  {
   "cell_type": "code",
   "execution_count": null,
   "metadata": {},
   "outputs": [],
   "source": [
    "code = \\\n",
    "\"\"\"\n",
    "data {\n",
    "  int<lower=1> N;      \n",
    "  vector[N] x;\n",
    "  vector[N] y;\n",
    "}\n",
    "\n",
    "parameters {\n",
    "  real intercept1;\n",
    "  real intercept2;\n",
    "  real<lower=0, upper=pi()/2>  angle1;\n",
    "  real<lower=-pi()/2, upper=0> angle2;\n",
    "  real<lower=0> sigma;\n",
    "  real switchpoint;\n",
    "} \n",
    "\n",
    "transformed parameters{\n",
    "  real slope1;\n",
    "  real slope2;\n",
    "  \n",
    "  slope1 = tan(angle1);\n",
    "  slope2 = tan(angle2);\n",
    "}\n",
    "\n",
    "model {\n",
    "  intercept1  ~ normal(0, 5);\n",
    "  intercept2  ~ normal(0, 5);\n",
    "  angle1      ~ uniform(0, pi()/2);\n",
    "  angle2      ~ uniform(-pi()/2, 0);\n",
    "  switchpoint ~ uniform(0.45, 0.9);\n",
    "  sigma       ~ cauchy(0, 3.0);\n",
    "    \n",
    "  for (i in 1:N) {\n",
    "    if (x[i] < switchpoint) {\n",
    "       y[i] ~ normal(intercept1 + slope1 * x[i], sigma);\n",
    "    }\n",
    "    else {\n",
    "       y[i] ~ normal(intercept2 + slope2 * x[i], sigma);\n",
    "    }\n",
    "  }\n",
    "}\n",
    "\"\"\""
   ]
  },
  {
   "cell_type": "code",
   "execution_count": null,
   "metadata": {},
   "outputs": [],
   "source": [
    "myData = {\"N\": N, \"x\": x, \"y\": y}"
   ]
  },
  {
   "cell_type": "code",
   "execution_count": null,
   "metadata": {},
   "outputs": [],
   "source": [
    "model = stan.build(code, data=myData, random_seed=135)"
   ]
  },
  {
   "cell_type": "code",
   "execution_count": null,
   "metadata": {},
   "outputs": [],
   "source": [
    "trace = model.sample(num_chains=4, num_samples=3000)"
   ]
  },
  {
   "cell_type": "code",
   "execution_count": null,
   "metadata": {},
   "outputs": [],
   "source": [
    "ax = az.plot_trace(trace, var_names=['intercept1', 'slope1', 'intercept2', 'slope2', 'switchpoint', 'sigma'], divergences=None)"
   ]
  },
  {
   "cell_type": "code",
   "execution_count": null,
   "metadata": {},
   "outputs": [],
   "source": [
    "az.summary(trace, var_names=['intercept1', 'slope1', 'intercept2', 'slope2', 'switchpoint', 'sigma'], round_to=5)"
   ]
  },
  {
   "attachments": {},
   "cell_type": "markdown",
   "metadata": {},
   "source": [
    "Back to [contents](#Contents)."
   ]
  },
  {
   "attachments": {},
   "cell_type": "markdown",
   "metadata": {},
   "source": [
    "---"
   ]
  },
  {
   "attachments": {},
   "cell_type": "markdown",
   "metadata": {},
   "source": [
    "## Uncertainties in y and x with Stan"
   ]
  },
  {
   "attachments": {},
   "cell_type": "markdown",
   "metadata": {},
   "source": [
    "See also the [Stan documentation on this topic](https://mc-stan.org/docs/2_19/stan-users-guide/bayesian-measurement-error-model.html)."
   ]
  },
  {
   "attachments": {},
   "cell_type": "markdown",
   "metadata": {},
   "source": [
    "Load the dataset. "
   ]
  },
  {
   "cell_type": "code",
   "execution_count": null,
   "metadata": {},
   "outputs": [],
   "source": [
    "url = \"https://raw.githubusercontent.com/JorisDeRidder/DataAnalysisInPhysicsAndAstronomy/main/Datasets/M_sigma.csv\"\n",
    "data = pd.read_csv(url, comment='#')"
   ]
  },
  {
   "cell_type": "code",
   "execution_count": null,
   "metadata": {},
   "outputs": [],
   "source": [
    "data.head()"
   ]
  },
  {
   "cell_type": "code",
   "execution_count": null,
   "metadata": {},
   "outputs": [],
   "source": [
    "myData = {'N':len(data)}\n",
    "for name in ['xobs', 'xerr', 'yobs', 'yerr']:\n",
    "    myData[name] = data[name].values"
   ]
  },
  {
   "cell_type": "code",
   "execution_count": null,
   "metadata": {},
   "outputs": [],
   "source": [
    "fig, ax = plt.subplots(1,1, figsize=(8,8))\n",
    "ax.errorbar(data['xobs'], data['yobs'], xerr=data['xerr'], yerr=data['yerr'], linestyle='', ms=15)\n",
    "ax.set_xlabel(r\"$\\ln(\\sigma/\\sigma_0)$\")\n",
    "ax.set_ylabel(r\"$\\ln(M_{\\bullet}/M_{\\odot})$\")\n",
    "ax.grid(True, color='gainsboro', linestyle='-', linewidth=0.5)\n",
    "plt.show()"
   ]
  },
  {
   "attachments": {},
   "cell_type": "markdown",
   "metadata": {},
   "source": [
    "We will approximate the relation between $y_{\\rm true}$ and $x_{\\rm true}$ with a simple linear model, but we recognize that we're not very certain of this relation, and that the true relation may deviate from a linear one. We model this uncertainty with\n",
    "\n",
    "$ y_{\\rm true} = \\theta_0 + \\theta_1\\, x_{\\rm true} + \\mathcal{N}(0, \\zeta) $\n",
    "\n",
    "Since we don't have a clue how large $\\zeta$ may be, we take a broad half StudentT distribution:\n",
    "\n",
    "$ \\zeta \\sim {\\rm HalfStudentT}(\\nu=1, \\mu=0, \\sigma=4) $\n",
    "\n",
    "We have measurement errors on both $x$ and $y$ which we model with\n",
    "\n",
    "$ y_{\\rm obs} \\sim \\mathcal{N}(y_{\\rm true}, \\sigma_y) $\n",
    "\n",
    "$ x_{\\rm obs} \\sim \\mathcal{N}(x_{\\rm true}, \\sigma_x) $\n",
    "\n",
    "where we take $\\sigma_x = {\\rm xerr}$ and $\\sigma_y = {\\rm yerr}$, the observed uncertainties. For the prior on $x_{\\rm true}$ we take an extremely broad distribution:\n",
    "\n",
    "$ x_{\\rm true} \\sim \\mathcal{N}(0, 20) $.\n"
   ]
  },
  {
   "cell_type": "code",
   "execution_count": null,
   "metadata": {},
   "outputs": [],
   "source": [
    "code = \\\n",
    "\"\"\"\n",
    "data {\n",
    "  int<lower=1> N;                                      // number of data points\n",
    "  vector[N] xobs;                                      // observed velocity dispersion\n",
    "  vector[N] xerr;                                      // uncertainty on observed velocity scatter\n",
    "  vector[N] yobs;                                      // observed black hole mass\n",
    "  vector[N] yerr;                                      // uncertainty on black hole mass\n",
    "}\n",
    "\n",
    "parameters {\n",
    "  real intercept;                                      \n",
    "  real slope;                                          \n",
    "  real<lower=0> zeta;                                  // scatter of ytrue around the linear relation\n",
    "  vector[N] xtrue;                                     // true but unknown velocity dispersion\n",
    "  vector[N] ytrue;                                     // true but unknown black hole mass \n",
    "}\n",
    "\n",
    "model {\n",
    "  intercept ~ normal(0, 100);\n",
    "  slope     ~ normal(0, 100);\n",
    "  zeta      ~ student_t(1, 0, 4);\n",
    "  xtrue     ~ normal(0, 20);                           // hyper-prior\n",
    "  xobs      ~ normal(xtrue, xerr);\n",
    "  ytrue     ~ normal(intercept + slope * xtrue, zeta);\n",
    "  yobs      ~ normal(ytrue, yerr);\n",
    "}\n",
    "\"\"\""
   ]
  },
  {
   "cell_type": "code",
   "execution_count": null,
   "metadata": {},
   "outputs": [],
   "source": [
    "model = stan.build(code, data=myData, random_seed=525)"
   ]
  },
  {
   "cell_type": "code",
   "execution_count": null,
   "metadata": {},
   "outputs": [],
   "source": [
    "trace = model.sample(num_chains=3, num_samples=4000)"
   ]
  },
  {
   "cell_type": "code",
   "execution_count": null,
   "metadata": {},
   "outputs": [],
   "source": [
    "az.summary(trace, var_names=['intercept', 'slope', 'zeta'], round_to=3)"
   ]
  },
  {
   "cell_type": "code",
   "execution_count": null,
   "metadata": {},
   "outputs": [],
   "source": [
    "meanIntercept = np.mean(trace['intercept'])\n",
    "meanSlope = np.mean(trace['slope'])"
   ]
  },
  {
   "cell_type": "code",
   "execution_count": null,
   "metadata": {},
   "outputs": [],
   "source": [
    "fig, ax = plt.subplots(1,1, figsize=(12,12))\n",
    "\n",
    "ax.errorbar(data['xobs'], data['yobs'], xerr=data['xerr'], yerr=data['yerr'], linestyle='', ms=15)\n",
    "\n",
    "xvalues = np.linspace(-0.5, 0.4, 30)\n",
    "yvalues = meanIntercept + meanSlope * xvalues\n",
    "ax.plot(xvalues, yvalues, c=\"red\", linewidth=2, alpha=0.7)\n",
    "\n",
    "ax.set_xlabel(r\"$\\ln(\\sigma/\\sigma_0)$\")\n",
    "ax.set_ylabel(r\"$\\ln(M_{\\rm BH}/M_{\\odot})$\")\n",
    "ax.grid(True, color='gainsboro', linestyle='-', linewidth=0.5)\n",
    "plt.show()"
   ]
  },
  {
   "attachments": {},
   "cell_type": "markdown",
   "metadata": {},
   "source": [
    "Back to [contents](#Contents)."
   ]
  },
  {
   "attachments": {},
   "cell_type": "markdown",
   "metadata": {},
   "source": [
    "---"
   ]
  },
  {
   "attachments": {},
   "cell_type": "markdown",
   "metadata": {},
   "source": [
    "## Uncertainties in y and x with PyMC"
   ]
  },
  {
   "attachments": {},
   "cell_type": "markdown",
   "metadata": {},
   "source": [
    "We use the same dataset as above:"
   ]
  },
  {
   "cell_type": "code",
   "execution_count": null,
   "metadata": {},
   "outputs": [],
   "source": [
    "url = \"https://raw.githubusercontent.com/JorisDeRidder/DataAnalysisInPhysicsAndAstronomy/main/Datasets/M_sigma.csv\"\n",
    "data = pd.read_csv(url, comment='#')\n",
    "data.head()"
   ]
  },
  {
   "cell_type": "code",
   "execution_count": null,
   "metadata": {},
   "outputs": [],
   "source": [
    "fig, ax = plt.subplots(1,1, figsize=(8,8))\n",
    "ax.errorbar(data['xobs'], data['yobs'], xerr=data['xerr'], yerr=data['yerr'], linestyle='', ms=15)\n",
    "ax.set_xlabel(r\"$\\ln(\\sigma/\\sigma_0)$\")\n",
    "ax.set_ylabel(r\"$\\ln(M_{\\bullet}/M_{\\odot})$\")\n",
    "ax.grid(True, color='gainsboro', linestyle='-', linewidth=0.5)\n",
    "plt.show()"
   ]
  },
  {
   "attachments": {},
   "cell_type": "markdown",
   "metadata": {},
   "source": [
    "This time, we leave out the construction with $\\zeta$, and we assume that we know the exact relation between $x_{\\rm true}$ and $y_{\\rm true}$:"
   ]
  },
  {
   "attachments": {},
   "cell_type": "markdown",
   "metadata": {},
   "source": [
    "$ y_{\\rm true} = \\theta_0 + \\theta_1\\, x_{\\rm true}  $\n",
    "\n",
    "As before we model the measurements with errors on both $x$ and $y$ with\n",
    "\n",
    "$ y_{\\rm obs} \\sim \\mathcal{N}(y_{\\rm true}, \\sigma_y) $\n",
    "\n",
    "$ x_{\\rm obs} \\sim \\mathcal{N}(x_{\\rm true}, \\sigma_x) $\n",
    "\n",
    "where we take $\\sigma_x = {\\rm xerr}$ and $\\sigma_y = {\\rm yerr}$, the observed uncertainties. For the prior on $x_{\\rm true}$ we take an extremely broad distribution:\n",
    "\n",
    "$ x_{\\rm true} \\sim \\mathcal{N}(0, 20) $.\n"
   ]
  },
  {
   "attachments": {},
   "cell_type": "markdown",
   "metadata": {},
   "source": [
    "Note that PyMC allows to have two observed quantities, which we will make use of."
   ]
  },
  {
   "cell_type": "code",
   "execution_count": null,
   "metadata": {},
   "outputs": [],
   "source": [
    "with pm.Model() as myModel:\n",
    "  xobs = pm.Data('xobs', data['xobs'].values)\n",
    "  yobs = pm.Data('yobs', data['yobs'].values)\n",
    "\n",
    "  intercept = pm.Normal('intercept', 0, 20)\n",
    "  alpha = pm.Uniform('alpha', 0.0, np.pi/2)\n",
    "  slope = pm.Deterministic('slope', np.tan(alpha))\n",
    "  true_x = pm.Normal('true_x', 0.0, 20.0, shape=len(data))\n",
    "  likelihood_x = pm.Normal('x', true_x, data['xerr'].values, observed=xobs)\n",
    "  true_y = pm.Deterministic('true_y', intercept + slope * true_x)\n",
    "  likelihood_y = pm.Normal('y', true_y, data['yerr'].values, observed=yobs)\n",
    "\n",
    "  trace = pm.sample(4000, chains=4, cores=2, return_inferencedata=True, tune=2000, target_accept=0.95)"
   ]
  },
  {
   "attachments": {},
   "cell_type": "markdown",
   "metadata": {},
   "source": [
    "Plot the posteriors for a sanity check:"
   ]
  },
  {
   "cell_type": "code",
   "execution_count": null,
   "metadata": {},
   "outputs": [],
   "source": [
    "ax = az.plot_trace(trace, var_names=['intercept', 'slope', 'true_x'])"
   ]
  },
  {
   "attachments": {},
   "cell_type": "markdown",
   "metadata": {},
   "source": [
    "Extract the mean posterior value of the intercept and the slope to calculate the true y-values given a grid of true x-values:"
   ]
  },
  {
   "cell_type": "code",
   "execution_count": null,
   "metadata": {},
   "outputs": [],
   "source": [
    "posteriorMean = pm.summary(trace)['mean']\n",
    "meanIntercept = posteriorMean.intercept\n",
    "meanSlope = posteriorMean.slope\n",
    "true_x = np.linspace(-0.5, 0.4, 100)\n",
    "true_y = meanIntercept + meanSlope * true_x"
   ]
  },
  {
   "attachments": {},
   "cell_type": "markdown",
   "metadata": {},
   "source": [
    "Overplot the mean curve on top of the data. Note that the data points use the observed x-values, while the mean curve uses the true x-values..."
   ]
  },
  {
   "cell_type": "code",
   "execution_count": null,
   "metadata": {},
   "outputs": [],
   "source": [
    "fig, ax = plt.subplots(1,1, figsize=(8,8))\n",
    "ax.errorbar(data['xobs'], data['yobs'], xerr=data['xerr'], yerr=data['yerr'], linestyle='', ms=15)\n",
    "ax.plot(true_x, true_y, c=\"red\")\n",
    "ax.set_xlabel(r\"$\\ln(\\sigma/\\sigma_0)$\")\n",
    "ax.set_ylabel(r\"$\\ln(M_{\\bullet}/M_{\\odot})$\")\n",
    "ax.grid(True, color='gainsboro', linestyle='-', linewidth=0.5)\n",
    "plt.show()"
   ]
  },
  {
   "attachments": {},
   "cell_type": "markdown",
   "metadata": {},
   "source": [
    "Back to [contents](#Contents)."
   ]
  },
  {
   "attachments": {},
   "cell_type": "markdown",
   "metadata": {},
   "source": [
    "---"
   ]
  },
  {
   "attachments": {},
   "cell_type": "markdown",
   "metadata": {},
   "source": [
    "## Modeling a distribution for a dataset with PyMC"
   ]
  },
  {
   "attachments": {},
   "cell_type": "markdown",
   "metadata": {},
   "source": [
    "Load the dataset:"
   ]
  },
  {
   "cell_type": "code",
   "execution_count": null,
   "metadata": {},
   "outputs": [],
   "source": [
    "url = \"https://raw.githubusercontent.com/JorisDeRidder/DataAnalysisInPhysicsAndAstronomy/main/Datasets/NGC6611.csv\"\n",
    "data = pd.read_csv(url, comment='#')"
   ]
  },
  {
   "cell_type": "code",
   "execution_count": null,
   "metadata": {},
   "outputs": [],
   "source": [
    "data.head()"
   ]
  },
  {
   "cell_type": "code",
   "execution_count": null,
   "metadata": {
    "scrolled": false
   },
   "outputs": [],
   "source": [
    "fig, ax = plt.subplots(1,1, figsize=(12,7))\n",
    "ax.hist(data['Mass'].values, bins=20, density=True)\n",
    "ax.set_xlabel(r\"Mass $[M_{\\odot}]$\")\n",
    "ax.set_ylabel(\"density\")\n",
    "plt.show()"
   ]
  },
  {
   "attachments": {},
   "cell_type": "markdown",
   "metadata": {},
   "source": [
    "We wish to fit a log-normal distribution:\n",
    "    \n",
    "$$f_X(x) = \\frac{1}{x\\sigma\\sqrt{2\\pi}} \\ \\exp\\left(-\\frac{(\\ln x - \\mu)^2}{2\\sigma^2} \\right)$$"
   ]
  },
  {
   "attachments": {},
   "cell_type": "markdown",
   "metadata": {},
   "source": [
    "$y \\sim $ log-Normal $(\\mu, \\sigma^2)$\n",
    "\n",
    "$\\mu \\sim {\\rm Normal}(0, 10)$\n",
    "\n",
    "$\\sigma^2 \\sim$ HalfNormal $(0, 10^2)$"
   ]
  },
  {
   "cell_type": "code",
   "execution_count": null,
   "metadata": {},
   "outputs": [],
   "source": [
    "with pm.Model() as myModel:\n",
    "    \n",
    "    yobs = pm.Data(\"yobs\", data['Mass'].values)\n",
    "    \n",
    "    mu         = pm.Normal(\"mu\", mu=0, sigma=10)\n",
    "    sigma      = pm.HalfNormal(\"sigma\", sigma=100)\n",
    "    likelihood = pm.Lognormal(\"Mass\", mu=mu, sigma=sigma, observed=yobs)\n",
    "\n",
    "    trace = pm.sample(3000, chains=4, cores=2, return_inferencedata=True)"
   ]
  },
  {
   "cell_type": "code",
   "execution_count": null,
   "metadata": {},
   "outputs": [],
   "source": [
    "ax = az.plot_trace(trace)"
   ]
  },
  {
   "cell_type": "code",
   "execution_count": null,
   "metadata": {},
   "outputs": [],
   "source": [
    "az.summary(trace, var_names=['mu', 'sigma'], hdi_prob=0.95, round_to=3)"
   ]
  },
  {
   "cell_type": "code",
   "execution_count": null,
   "metadata": {
    "scrolled": false
   },
   "outputs": [],
   "source": [
    "fig, ax = plt.subplots(2,2, figsize=(10,10))     \n",
    "fig = corner.corner(trace, fig=fig, var_names=['mu', 'sigma'],\n",
    "                           quantiles=[0.025, 0.5, 0.975],\n",
    "                           show_titles=True, \n",
    "                           title_kwargs={\"fontsize\": 12})"
   ]
  },
  {
   "attachments": {},
   "cell_type": "markdown",
   "metadata": {},
   "source": [
    "$\\mu$ and $\\sigma$ seem uncorrelated."
   ]
  },
  {
   "attachments": {},
   "cell_type": "markdown",
   "metadata": {},
   "source": [
    "The following aims to overplot the mean log-normal distribution over the observed density. SciPy has a bit of a deviating version of the log-normal distribution, so we need our customary function:"
   ]
  },
  {
   "cell_type": "code",
   "execution_count": null,
   "metadata": {},
   "outputs": [],
   "source": [
    "def logNormal(x, mu, sigma):\n",
    "    return np.exp(-(np.log(x) - mu)**2/2/sigma**2) / x / sigma / np.sqrt(2*np.pi)"
   ]
  },
  {
   "cell_type": "code",
   "execution_count": null,
   "metadata": {},
   "outputs": [],
   "source": [
    "meanValues = pm.summary(trace, var_names=['mu', 'sigma'], hdi_prob=0.95)['mean']\n",
    "muMean = meanValues.mu\n",
    "sigmaMean = meanValues.sigma\n",
    "\n",
    "lowerQuantiles = pm.summary(trace, var_names=['mu', 'sigma'], hdi_prob=0.95)['hdi_2.5%']\n",
    "muLower = lowerQuantiles.mu\n",
    "sigmaLower = lowerQuantiles.sigma\n",
    "\n",
    "upperQuantiles = pm.summary(trace, var_names=['mu', 'sigma'], hdi_prob=0.95)['hdi_97.5%']\n",
    "muUpper = upperQuantiles.mu\n",
    "sigmaUpper = upperQuantiles.sigma"
   ]
  },
  {
   "cell_type": "code",
   "execution_count": null,
   "metadata": {},
   "outputs": [],
   "source": [
    "sigmaUpper"
   ]
  },
  {
   "cell_type": "code",
   "execution_count": null,
   "metadata": {},
   "outputs": [],
   "source": [
    "xvalues = np.linspace(0.01, 1.5, 100)\n",
    "yvaluesMean  = logNormal(xvalues, muMean, sigmaMean)\n",
    "yvaluesLower = logNormal(xvalues, muLower, sigmaLower)\n",
    "yvaluesUpper = logNormal(xvalues, muUpper, sigmaUpper)"
   ]
  },
  {
   "cell_type": "code",
   "execution_count": null,
   "metadata": {},
   "outputs": [],
   "source": [
    "fig, ax = plt.subplots(1,1, figsize=(12,7))\n",
    "ax.hist(data['Mass'].values, bins=20, density=True)\n",
    "\n",
    "ax.fill_between(xvalues, yvaluesLower, yvaluesUpper, color=\"pink\", alpha=0.9)\n",
    "ax.plot(xvalues, yvaluesMean, c=\"red\", linewidth=1.5)\n",
    "\n",
    "ax.set_xlabel(r\"Mass $[M_{\\odot}]$\")\n",
    "ax.set_ylabel(\"density\")\n",
    "plt.show()"
   ]
  },
  {
   "attachments": {},
   "cell_type": "markdown",
   "metadata": {},
   "source": [
    "Back to [contents](#Contents)."
   ]
  },
  {
   "attachments": {},
   "cell_type": "markdown",
   "metadata": {},
   "source": [
    "---"
   ]
  },
  {
   "attachments": {},
   "cell_type": "markdown",
   "metadata": {},
   "source": [
    "## Fitting a binomial logistic model with Stan"
   ]
  },
  {
   "attachments": {},
   "cell_type": "markdown",
   "metadata": {},
   "source": [
    "Load the dataset:"
   ]
  },
  {
   "cell_type": "code",
   "execution_count": null,
   "metadata": {},
   "outputs": [],
   "source": [
    "url = \"https://raw.githubusercontent.com/JorisDeRidder/DataAnalysisInPhysicsAndAstronomy/main/Datasets/Red_spirals.csv\"\n",
    "data = pd.read_csv(url, comment='#')"
   ]
  },
  {
   "cell_type": "code",
   "execution_count": null,
   "metadata": {},
   "outputs": [],
   "source": [
    "data.head()"
   ]
  },
  {
   "cell_type": "code",
   "execution_count": null,
   "metadata": {},
   "outputs": [],
   "source": [
    "fig, ax = plt.subplots(1,1, figsize=(10,7))\n",
    "\n",
    "red = data['type'] == 1\n",
    "blue = data['type'] == 0\n",
    "ax.hist(data.loc[blue, 'fracdev'], bins=20, rwidth=0.9, label=\"Blue spiral galaxies\")\n",
    "ax.hist(data.loc[red, 'fracdev'], bins=20, facecolor=\"red\", edgecolor=\"red\", rwidth=0.9, label=\"Red spiral galaxies\")\n",
    "\n",
    "ax.legend(loc='upper right')\n",
    "ax.set_xlabel(\"fracdev\")\n",
    "ax.set_ylabel(\"count\")\n",
    "ax.set_ylim(0, 500)\n",
    "plt.show()"
   ]
  },
  {
   "cell_type": "code",
   "execution_count": null,
   "metadata": {},
   "outputs": [],
   "source": [
    "code = \\\n",
    "\"\"\"\n",
    "data {\n",
    "  int<lower=0> N;                   // Number of data points\n",
    "  int<lower=0> K;                   // Number of model parameters\n",
    "  matrix[N,K] X;                    // Design matrix, bulge size\n",
    "  int y[N];                         // Galaxy type: 0: blue, 1: red\n",
    "}\n",
    "\n",
    "parameters {\n",
    "  vector[K] theta;                  // Model parameters\n",
    "}\n",
    "\n",
    "transformed parameters {\n",
    "  real intercept;                   // Separate quantities just to make the trace plots more clear\n",
    "  real slope;\n",
    "  \n",
    "  intercept = theta[1];\n",
    "  slope = theta[2];\n",
    "}\n",
    "\n",
    "model {\n",
    "  for (k in 1:K) {\n",
    "    theta[k] ~ normal(0,10);\n",
    "  }\n",
    "  \n",
    "  y ~ bernoulli_logit(X * theta);   // p_i = inverse-logit(X * theta)\n",
    "}\n",
    "\"\"\""
   ]
  },
  {
   "cell_type": "code",
   "execution_count": null,
   "metadata": {},
   "outputs": [],
   "source": [
    "X = np.vander(data['fracdev'].values, 2, increasing=True)\n",
    "y = data['type']\n",
    "myData = {'N': X.shape[0], 'K': X.shape[1], 'X': X, 'y': y.values}"
   ]
  },
  {
   "cell_type": "code",
   "execution_count": null,
   "metadata": {
    "scrolled": true
   },
   "outputs": [],
   "source": [
    "model = stan.build(code, data=myData, random_seed=135)"
   ]
  },
  {
   "cell_type": "code",
   "execution_count": null,
   "metadata": {},
   "outputs": [],
   "source": [
    "trace = model.sample(num_chains=4, num_samples=3000)"
   ]
  },
  {
   "cell_type": "code",
   "execution_count": null,
   "metadata": {},
   "outputs": [],
   "source": [
    "ax = az.plot_trace(trace, var_names=['intercept', 'slope'])"
   ]
  },
  {
   "cell_type": "code",
   "execution_count": null,
   "metadata": {},
   "outputs": [],
   "source": [
    "az.summary(trace, var_names=['intercept', 'slope'], hdi_prob=0.95, round_to=3)"
   ]
  },
  {
   "cell_type": "code",
   "execution_count": null,
   "metadata": {},
   "outputs": [],
   "source": [
    "meanIntercept = np.mean(trace['intercept'])\n",
    "meanSlope = np.mean(trace['slope'])\n",
    "xvalues = np.linspace(0, 0.5, 100)\n",
    "yvalues = 1/(1+np.exp(-meanIntercept-meanSlope*xvalues))"
   ]
  },
  {
   "cell_type": "code",
   "execution_count": null,
   "metadata": {},
   "outputs": [],
   "source": [
    "bins = np.linspace(0, 0.5, 20)\n",
    "binCenters = (bins[1:] + bins[:-1])/2.\n",
    "\n",
    "allGalaxies, dummy = np.histogram(data['fracdev'], bins=bins)\n",
    "redGalaxies, dummy = np.histogram(data.loc[red, 'fracdev'], bins=bins) \n",
    "fraction = redGalaxies / allGalaxies"
   ]
  },
  {
   "cell_type": "code",
   "execution_count": null,
   "metadata": {},
   "outputs": [],
   "source": [
    "fig, ax = plt.subplots(1,1, figsize=(10,7))\n",
    "\n",
    "ax.scatter(binCenters, fraction)\n",
    "ax.plot(xvalues, yvalues, color=\"red\", linewidth=2)\n",
    "ax.set_xlabel(\"fracdev\")\n",
    "ax.set_ylabel(r\"$p_{\\rm red}$\")\n",
    "ax.grid(True, color='gainsboro', linestyle='-', linewidth=0.5)\n",
    "plt.show()"
   ]
  },
  {
   "attachments": {},
   "cell_type": "markdown",
   "metadata": {},
   "source": [
    "Back to [contents](#Contents)."
   ]
  },
  {
   "attachments": {},
   "cell_type": "markdown",
   "metadata": {},
   "source": [
    "---"
   ]
  },
  {
   "attachments": {},
   "cell_type": "markdown",
   "metadata": {},
   "source": [
    "## Fitting a binomial logistic model with PyMC"
   ]
  },
  {
   "attachments": {},
   "cell_type": "markdown",
   "metadata": {},
   "source": [
    "We use the same dataset as in the previous example:"
   ]
  },
  {
   "cell_type": "code",
   "execution_count": null,
   "metadata": {},
   "outputs": [],
   "source": [
    "url = \"https://raw.githubusercontent.com/JorisDeRidder/DataAnalysisInPhysicsAndAstronomy/main/Datasets/Red_spirals.csv\"\n",
    "data = pd.read_csv(url, comment='#')\n",
    "data.head()"
   ]
  },
  {
   "cell_type": "code",
   "execution_count": null,
   "metadata": {},
   "outputs": [],
   "source": [
    "with pm.Model() as myModel:\n",
    "    xobs = pm.Data(\"xobs\", data['fracdev'].values)\n",
    "    yobs = pm.Data(\"yobs\", data['type'].values)\n",
    "    intercept = pm.Normal('intercept', mu=0, sigma=10)\n",
    "    slope     = pm.Normal('slope', mu=0, sigma=10)\n",
    "    probRed   = pm.Deterministic('probRed', pm.math.sigmoid(intercept + slope * xobs))\n",
    "    y         = pm.Bernoulli('y', p=probRed, observed=yobs)\n",
    "\n",
    "    trace = pm.sample(3000, chains=4, cores=2, return_inferencedata=True)"
   ]
  },
  {
   "cell_type": "code",
   "execution_count": null,
   "metadata": {},
   "outputs": [],
   "source": [
    "ax = az.plot_trace(trace, var_names=['intercept', 'slope'])"
   ]
  },
  {
   "cell_type": "code",
   "execution_count": null,
   "metadata": {},
   "outputs": [],
   "source": [
    "az.summary(trace, var_names=['intercept', 'slope'], hdi_prob=0.95, round_to=3)"
   ]
  },
  {
   "cell_type": "code",
   "execution_count": null,
   "metadata": {},
   "outputs": [],
   "source": [
    "fig, ax = plt.subplots(1,1, figsize=(8,8)) \n",
    "kde_kwargs = {'contour_kwargs': {'levels': 10}}\n",
    "az.plot_pair(trace, ax=ax, var_names=['intercept', 'slope'], kind='kde', kde_kwargs=kde_kwargs);\n",
    "ax.grid(True, color='gainsboro', linestyle='-', linewidth=0.5, alpha=0.7)"
   ]
  },
  {
   "attachments": {},
   "cell_type": "markdown",
   "metadata": {},
   "source": [
    "The mean fit:"
   ]
  },
  {
   "cell_type": "code",
   "execution_count": null,
   "metadata": {},
   "outputs": [],
   "source": [
    "posteriorMean = pm.summary(trace, var_names=['intercept', 'slope'])['mean']\n",
    "meanIntercept = posteriorMean.intercept\n",
    "meanSlope = posteriorMean.slope\n",
    "xvalues = np.linspace(0, 0.5, 100)\n",
    "yvalues = 1/(1+np.exp(-meanIntercept-meanSlope*xvalues))"
   ]
  },
  {
   "cell_type": "code",
   "execution_count": null,
   "metadata": {},
   "outputs": [],
   "source": [
    "stacked = trace.posterior.stack(draws=(\"chain\", \"draw\"))\n",
    "slope = stacked.slope.values\n",
    "intercept = stacked.intercept.values"
   ]
  },
  {
   "attachments": {},
   "cell_type": "markdown",
   "metadata": {},
   "source": [
    "The observed fraction of red spirals w.r.t. the total number of spiral galaxies:"
   ]
  },
  {
   "cell_type": "code",
   "execution_count": null,
   "metadata": {},
   "outputs": [],
   "source": [
    "bins = np.linspace(0, 0.5, 20)\n",
    "binCenters = (bins[1:] + bins[:-1])/2.\n",
    "\n",
    "red = data['type'] == 1\n",
    "allGalaxies, dummy = np.histogram(data['fracdev'], bins=bins)\n",
    "redGalaxies, dummy = np.histogram(data.loc[red, 'fracdev'], bins=bins) \n",
    "fraction = redGalaxies / allGalaxies"
   ]
  },
  {
   "cell_type": "code",
   "execution_count": null,
   "metadata": {},
   "outputs": [],
   "source": [
    "fig, ax = plt.subplots(1,1, figsize=(10,7))\n",
    "\n",
    "ax.plot(xvalues, yvalues, c=\"red\", linewidth=2)\n",
    "\n",
    "M = len(slope)//1000\n",
    "for n in range(0, len(slope), M):\n",
    "    yvalues = 1/(1+np.exp(-intercept[n]-slope[n]*xvalues))\n",
    "    ax.plot(xvalues, yvalues, c=\"gray\", linewidth=1, alpha=0.02)\n",
    "\n",
    "ax.scatter(binCenters, fraction)\n",
    "\n",
    "ax.set_xlabel(\"fracdev\")\n",
    "ax.set_ylabel(r\"$p_{\\rm red}$\")\n",
    "ax.set_xlim(0,0.5)\n",
    "ax.set_ylim(0,0.35)\n",
    "ax.grid(True, color='gainsboro', linestyle='-', linewidth=0.5)\n",
    "plt.show()"
   ]
  },
  {
   "attachments": {},
   "cell_type": "markdown",
   "metadata": {},
   "source": [
    "Back to [contents](#Contents)."
   ]
  },
  {
   "attachments": {},
   "cell_type": "markdown",
   "metadata": {},
   "source": [
    "---"
   ]
  },
  {
   "attachments": {},
   "cell_type": "markdown",
   "metadata": {},
   "source": [
    "## A multinomial logistic model with Stan"
   ]
  },
  {
   "cell_type": "code",
   "execution_count": null,
   "metadata": {},
   "outputs": [],
   "source": [
    "url = \"https://raw.githubusercontent.com/JorisDeRidder/DataAnalysisInPhysicsAndAstronomy/main/Datasets/AtomiumAGB5.csv\"\n",
    "data = pd.read_csv(url, comment='#')\n",
    "data.head()"
   ]
  },
  {
   "attachments": {},
   "cell_type": "markdown",
   "metadata": {},
   "source": [
    "As covariate we will use the logarithm of the mass loss. For the classes we prefer the number 0,1,2 instead of 1,2,3 because several software libraries expect the latter."
   ]
  },
  {
   "cell_type": "code",
   "execution_count": null,
   "metadata": {},
   "outputs": [],
   "source": [
    "x = np.log10(data['Mdot']).values\n",
    "meanx = np.mean(x)\n",
    "x = x - meanx                                             # Recentering the covariate\n",
    "y = data['class'].values"
   ]
  },
  {
   "cell_type": "code",
   "execution_count": null,
   "metadata": {},
   "outputs": [],
   "source": [
    "fig, ax = plt.subplots(1,1, figsize=(10,5))\n",
    "\n",
    "ax.scatter(x, y, c=\"black\",s=25)\n",
    "\n",
    "ax.grid(True, color='gainsboro', linestyle='-', linewidth=0.5)\n",
    "ax.set_xlabel(r\"$\\log_{10}(\\dot{M} \\ / \\ (M_{\\odot} \\ yr^{-1}))$ + 5.977\")\n",
    "\n",
    "ax.set_yticks([1,2,3])\n",
    "ax.set_yticklabels(['Class 1','Class 2','Class 3'])\n",
    "plt.show()"
   ]
  },
  {
   "attachments": {},
   "cell_type": "markdown",
   "metadata": {},
   "source": [
    "In the following Stan script we use the first class as a pivot, which means that we set its intercept and slope to zero. The entire script is unfortunately not so trivial and we refer to the [relevant Stan example page](https://mc-stan.org/docs/2_19/stan-users-guide/multi-logit-section.html) for a more in-depth explanation."
   ]
  },
  {
   "cell_type": "code",
   "execution_count": null,
   "metadata": {},
   "outputs": [],
   "source": [
    "code = \\\n",
    "\"\"\"\n",
    "data {\n",
    "    int<lower=2> J;                               // Nr of categories (classes) \n",
    "    int<lower=1> N;                               // Nr of observations\n",
    "    int<lower=1> K;                               // Nr of covariates\n",
    "    int<lower=1,upper=J> y[N];                    // Our categorical data\n",
    "    matrix[N,K] X;                                // Design matrix  \n",
    "}\n",
    "\n",
    "transformed data {\n",
    "    vector[K] zeros = rep_vector(0, K);\n",
    "}\n",
    "\n",
    "parameters {\n",
    "    matrix[K, J-1] theta_raw;  \n",
    "}\n",
    "\n",
    "transformed parameters {\n",
    "    matrix[K, J] theta;\n",
    "    theta = append_col(zeros, theta_raw);\n",
    "}\n",
    "\n",
    "model {\n",
    "\n",
    "    matrix[N,J] Xtheta = X * theta;\n",
    "\n",
    "    to_vector(theta_raw) ~ normal(0, 20);\n",
    "    \n",
    "    for (n in 1:N) {\n",
    "        y[n] ~ categorical_logit(Xtheta[n]');\n",
    "    }\n",
    "}\n",
    "\"\"\""
   ]
  },
  {
   "cell_type": "code",
   "execution_count": null,
   "metadata": {},
   "outputs": [],
   "source": [
    "N = len(x)                                                                       # Nr of observations\n",
    "K = 2                                                                            # Nr of regression coefficients\n",
    "J = 3                                                                            # Nr of categories (classes)\n",
    "X = np.column_stack([np.ones_like(x), x])                                        # Design matrix\n",
    "myData = {'N': N, 'K': K, 'J': J, 'X': X, 'y': y}"
   ]
  },
  {
   "cell_type": "code",
   "execution_count": null,
   "metadata": {},
   "outputs": [],
   "source": [
    "model = stan.build(code, data=myData, random_seed=835)"
   ]
  },
  {
   "cell_type": "code",
   "execution_count": null,
   "metadata": {},
   "outputs": [],
   "source": [
    "trace = model.sample(num_chains=4, num_samples=4000)"
   ]
  },
  {
   "cell_type": "code",
   "execution_count": null,
   "metadata": {},
   "outputs": [],
   "source": [
    "ax = az.plot_trace(trace)"
   ]
  },
  {
   "attachments": {},
   "cell_type": "markdown",
   "metadata": {},
   "source": [
    "The bandwidth problem is caused by the fact that we set the intercept and slope for the 1st class to be exact zero. Hence it cannot compute the bandwidth of the kernel density estimate as it is a delta function."
   ]
  },
  {
   "cell_type": "code",
   "execution_count": null,
   "metadata": {},
   "outputs": [],
   "source": [
    "az.summary(trace)"
   ]
  },
  {
   "cell_type": "code",
   "execution_count": null,
   "metadata": {},
   "outputs": [],
   "source": [
    "meanTheta = az.summary(trace)['mean']\n",
    "meanTheta = np.array([meanTheta['theta[{0}, {1}]'.format(k,j)] for k in range(K) for j in range(J)]).reshape(K,J)\n",
    "print(meanTheta)"
   ]
  },
  {
   "cell_type": "code",
   "execution_count": null,
   "metadata": {},
   "outputs": [],
   "source": [
    "xvalues = np.linspace(-1.6, 1.7, 200)\n",
    "Xdesign = np.column_stack([np.ones_like(xvalues), xvalues])\n",
    "expXtheta = np.exp(np.dot(Xdesign, meanTheta))\n",
    "P2 = expXtheta[:,1] / expXtheta.sum(axis=1)\n",
    "P3 = expXtheta[:,2] / expXtheta.sum(axis=1)\n",
    "P1 = 1-P2-P3"
   ]
  },
  {
   "cell_type": "code",
   "execution_count": null,
   "metadata": {},
   "outputs": [],
   "source": [
    "plt.figure(figsize=(10, 7))\n",
    "ax = plt.subplot(1, 1, 1)\n",
    "ax.grid(True, color='gainsboro', linestyle='-', linewidth=0.5)\n",
    "plt.xticks(fontsize=18)\n",
    "plt.yticks(fontsize=18)\n",
    "ax.set_xlabel(r'$\\log_{10}(\\dot{M} \\ / \\ (M_{\\odot} \\ yr^{-1}))$', fontsize=18)\n",
    "ax.set_ylabel('probability', fontsize=18)\n",
    "ax.yaxis.set_label_coords(-0.07, 0.16)\n",
    "\n",
    "ax.set_yticks([0,1,2,3,4])\n",
    "ax.set_yticklabels(['0','1','Class 1', 'Class 2', 'Class 3'])\n",
    "\n",
    "ax.plot(xvalues, P1, c=\"orange\")\n",
    "ax.plot(xvalues, P2, c=\"blue\")\n",
    "ax.plot(xvalues, P3, c=\"green\")\n",
    "ax.scatter(x, y+1, c=\"black\", s=25)\n",
    "\n",
    "plt.show()"
   ]
  },
  {
   "attachments": {},
   "cell_type": "markdown",
   "metadata": {},
   "source": [
    "For comparison we do the same multinomial logistic regression using the `statsmodels` library. Also here we use P1 as a pivot."
   ]
  },
  {
   "cell_type": "code",
   "execution_count": null,
   "metadata": {},
   "outputs": [],
   "source": [
    "myModel = sm.MNLogit(y, X)\n",
    "myFit = myModel.fit(method=\"powell\")\n",
    "print(myFit.summary())"
   ]
  },
  {
   "cell_type": "code",
   "execution_count": null,
   "metadata": {},
   "outputs": [],
   "source": [
    "expXbeta = np.exp(np.dot(Xdesign, myFit.params))\n",
    "P2 = expXbeta[:,0] / (1 + expXbeta.sum(axis=1))\n",
    "P3 = expXbeta[:,1] / (1 + expXbeta.sum(axis=1))\n",
    "P1 = 1-P2-P3"
   ]
  },
  {
   "cell_type": "code",
   "execution_count": null,
   "metadata": {},
   "outputs": [],
   "source": [
    "plt.figure(figsize=(10, 7))\n",
    "ax = plt.subplot(1, 1, 1)\n",
    "ax.grid(True, color='gainsboro', linestyle='-', linewidth=0.5)\n",
    "plt.xticks(fontsize=18)\n",
    "plt.yticks(fontsize=18)\n",
    "ax.set_xlabel(r'$\\log_{10}(\\dot{M} \\ / \\ (M_{\\odot} \\ yr^{-1}))$', fontsize=18)\n",
    "ax.set_ylabel('probability', fontsize=18)\n",
    "ax.yaxis.set_label_coords(-0.07, 0.16)\n",
    "\n",
    "ax.set_yticks([0,1,2,3,4])\n",
    "ax.set_yticklabels(['0','1','Class 1', 'Class 2', 'Class 3'])\n",
    "\n",
    "ax.plot(xvalues, P1, c=\"orange\")\n",
    "ax.plot(xvalues, P2, c=\"blue\")\n",
    "ax.plot(xvalues, P3, c=\"green\")\n",
    "ax.scatter(x, y+1, c=\"black\", s=25)\n",
    "\n",
    "plt.show()"
   ]
  },
  {
   "attachments": {},
   "cell_type": "markdown",
   "metadata": {},
   "source": [
    "Back to [contents](#Contents)."
   ]
  },
  {
   "attachments": {},
   "cell_type": "markdown",
   "metadata": {},
   "source": [
    "---"
   ]
  },
  {
   "attachments": {},
   "cell_type": "markdown",
   "metadata": {},
   "source": [
    "## A multinomial logistic model with PyMC"
   ]
  },
  {
   "attachments": {},
   "cell_type": "markdown",
   "metadata": {},
   "source": [
    "To give an example on how to model a multinomial logistic model with PyMC we will first make a synthetic dataset, as this will be instructive on its own."
   ]
  },
  {
   "attachments": {},
   "cell_type": "markdown",
   "metadata": {},
   "source": [
    "As before we have 3 classes, and a parameter 'x' that we can measure for each object we study. The probability that an object belongs to a particular class depends on its measured x-values. We aim to put forward a model for this dependence, and get posterior distributions for the model parameters.\n",
    "\n",
    "The reason why it's called a \"multinomial\" model is that we will model the data with a Multinomial probability distribution:\n",
    "\n",
    "$$ y_i \\sim {\\rm MultiNom}(N, \\ \\{p_1, p_2, \\cdots, p_k\\}) $$\n",
    "\n",
    "Here $k$ is the number of classes (in our example k=3), $p_j$ is the probability for an object to belong to class $j$. $N$ is called the number of \"trials\" or \"number of experiments\", when observations are done in batches. \n",
    "\n",
    "For example, for the case of 3 classes with probabilities $(p_1, p_2, p_3) = (0.2, 0.3, 0.5)$ and N=100 trials we can draw a Multinomial datapoint using Numpy:"
   ]
  },
  {
   "cell_type": "code",
   "execution_count": 13,
   "metadata": {},
   "outputs": [
    {
     "name": "stdout",
     "output_type": "stream",
     "text": [
      "[17 26 57]\n"
     ]
    }
   ],
   "source": [
    "rng = np.random.default_rng(1984)\n",
    "y = rng.multinomial(100, [0.2, 0.3, 0.5])\n",
    "print(y)"
   ]
  },
  {
   "attachments": {},
   "cell_type": "markdown",
   "metadata": {},
   "source": [
    "The drawn datapoint tells us that of the 100 trials, we got 17 objects of class 1, 26 objects of class 2, and 57 objects of class 3, which is pretty consistent with the probabilities we entered."
   ]
  },
  {
   "attachments": {},
   "cell_type": "markdown",
   "metadata": {},
   "source": [
    "The Multinomial distribution is a very general distribution that reduces to some other distributions for specific values of $N$ and $k$:\n",
    "* If $k=2$ and $N=1$, the multinomial distribution reduces to the _Bernoulli distribution_.\n",
    "* If $k=2$ and $N>1$, we obtain the _Binomial distribution_.\n",
    "* If $k>2$ and $N=1$, the multinomial distribution is also called the _Categorical distribution_. This is the case for the current example, as we observe just one star at a time.\n",
    "\n",
    "For example, for $k=3$ and $N=1$, we can draw 5 objects from the Multinomial distribution using:"
   ]
  },
  {
   "cell_type": "code",
   "execution_count": 14,
   "metadata": {},
   "outputs": [
    {
     "name": "stdout",
     "output_type": "stream",
     "text": [
      "[[1 0 0]\n",
      " [0 0 1]\n",
      " [0 0 1]\n",
      " [0 1 0]\n",
      " [0 1 0]]\n"
     ]
    }
   ],
   "source": [
    "rng = np.random.default_rng(9084)\n",
    "y = rng.multinomial(1, [0.2, 0.3, 0.5], size=5)\n",
    "print(y)"
   ]
  },
  {
   "attachments": {},
   "cell_type": "markdown",
   "metadata": {},
   "source": [
    "The first row $[1, 0, 0]$ means 1 object of class 1, and 0 objects of classes 2 and 3. That is, an object of class 1. So, the array above is equivalent with:"
   ]
  },
  {
   "cell_type": "code",
   "execution_count": 15,
   "metadata": {},
   "outputs": [
    {
     "data": {
      "text/plain": [
       "['class1', 'class3', 'class3', 'class2', 'class2']"
      ]
     },
     "execution_count": 15,
     "metadata": {},
     "output_type": "execute_result"
    }
   ],
   "source": [
    "[\"class1\", \"class3\", \"class3\", \"class2\", \"class2\"]"
   ]
  },
  {
   "attachments": {},
   "cell_type": "markdown",
   "metadata": {},
   "source": [
    "or if we assign the numbers 0, 1, and 2 to respectively classes 1, 2, and 3, it's equivalent to:"
   ]
  },
  {
   "cell_type": "code",
   "execution_count": 16,
   "metadata": {},
   "outputs": [
    {
     "data": {
      "text/plain": [
       "[0, 2, 2, 1, 1]"
      ]
     },
     "execution_count": 16,
     "metadata": {},
     "output_type": "execute_result"
    }
   ],
   "source": [
    "[0,2,2,1,1]"
   ]
  },
  {
   "attachments": {},
   "cell_type": "markdown",
   "metadata": {},
   "source": [
    "The latter form is usually how our observed dataset looks like."
   ]
  },
  {
   "attachments": {},
   "cell_type": "markdown",
   "metadata": {},
   "source": [
    "We will use for each of the probabilities $p_j$ a linear model:\n",
    "\n",
    "$$ \\alpha_j + \\beta_j x. $$\n",
    "\n",
    "You might be tempted to use the logistic function to map this quantity into a probability $\\in [0,1]$:\n",
    "\n",
    "$$ p_j(x) = \\frac{1}{1+e^{-\\alpha_j - \\beta_j x}}  \\ \\ \\ \\ \\ \\ \\ \\ \\ (??)$$\n",
    "\n",
    "However, this does not take into account that the probabilities should add up to one: $p_1 + p_2 + p_3 = 1$. Instead, what is usually done is to model:\n",
    "\n",
    "$$ \\ln\\left(\\frac{p_2}{p_1}\\right) = \\alpha_2 + \\beta_2 x $$\n",
    "$$ \\ln\\left(\\frac{p_3}{p_1}\\right) = \\alpha_3 + \\beta_3 x $$\n",
    "\n",
    "and then use the fact that the probabilities add up to 1 to derive that:\n",
    "\n",
    "$$p_1(x) = \\frac{1}{1+e^{\\alpha_2 + \\beta_2 x}+e^{\\alpha_3+\\beta_3 x}} $$\n",
    "$$p_2(x) = \\frac{e^{\\alpha_2 + \\beta_2 x}}{1+e^{\\alpha_2 + \\beta_2 x}+e^{\\alpha_3+\\beta_3 x}} = p_1 \\ e^{\\alpha_2 + \\beta_2 x} $$\n",
    "$$p_3(x) = \\frac{e^{\\alpha_3+\\beta_3 x}}{1+e^{\\alpha_2 + \\beta_2 x}+e^{\\alpha_3+\\beta_3 x}} = p_1 \\ e^{\\alpha_3 + \\beta_3 x} $$\n"
   ]
  },
  {
   "attachments": {},
   "cell_type": "markdown",
   "metadata": {},
   "source": [
    "With this knowledge we can generate our synthetic dataset:"
   ]
  },
  {
   "cell_type": "code",
   "execution_count": 17,
   "metadata": {},
   "outputs": [
    {
     "name": "stdout",
     "output_type": "stream",
     "text": [
      "[[0 0 1]\n",
      " [0 0 1]\n",
      " [0 0 1]\n",
      " [0 0 1]\n",
      " [0 0 1]]\n"
     ]
    }
   ],
   "source": [
    "rng = np.random.default_rng(1984)\n",
    "\n",
    "# Some arbitrarily chosen observed x-values\n",
    "\n",
    "xobs= np.sort(rng.uniform(-1.7, 1.5, size=50))\n",
    "\n",
    "# Generate the probabilities to belong to classes 1, 2, or 3\n",
    "\n",
    "exp2 = np.exp(0.0 + 4.0 * xobs) \n",
    "exp3 = np.exp(0.1 - 3* xobs) \n",
    "p1 = 1 / (1+exp2+exp3)\n",
    "p2 = exp2 * p1 \n",
    "p3 = exp3 * p1 \n",
    "p = np.array([p1,p2,p3]).transpose()                             # This is the format the numpy's multinomial function expects\n",
    "\n",
    "# Generate the data\n",
    "\n",
    "yobs = rng.multinomial(1, p)                                     # N=1 trial, but since we gave it 50 (p_1, p_2, p_3) triplets, it will generate 50 data points\n",
    "print(yobs[:5])"
   ]
  },
  {
   "attachments": {},
   "cell_type": "markdown",
   "metadata": {},
   "source": [
    "To transform these observations that what a typical dataset looks like, I use the trick:"
   ]
  },
  {
   "cell_type": "code",
   "execution_count": 18,
   "metadata": {},
   "outputs": [
    {
     "name": "stdout",
     "output_type": "stream",
     "text": [
      "[2 2 2 2 2 2 2 2 2 2 2 2 2 2 2 2 2 2 2 2 0 2 2 2 1 0 1 2 0 0 1 1 1 1 1 1 1\n",
      " 1 1 1 1 1 1 1 1 1 1 1 1 1]\n"
     ]
    }
   ],
   "source": [
    "observed_class = np.sum(yobs * [1, 2, 3], axis=1) - 1\n",
    "print(observed_class)"
   ]
  },
  {
   "attachments": {},
   "cell_type": "markdown",
   "metadata": {},
   "source": [
    "Here the numbers 0, 1, and 2, denote classes 1, 2, and 3. Why not use the numbers 1,2,3? See below: some library functions expect class numbers starting from 0. \n",
    "\n",
    "So we now have 50 objects, each with a measured 'x' value, drawn with a probability to belong to a certain class depending on that x-value.\n",
    "\n",
    "We can illustrate our dataset with the following figure:"
   ]
  },
  {
   "cell_type": "code",
   "execution_count": 19,
   "metadata": {},
   "outputs": [
    {
     "data": {
      "image/png": "[encoded data removed]",
      "text/plain": [
       "<Figure size 800x500 with 1 Axes>"
      ]
     },
     "metadata": {},
     "output_type": "display_data"
    }
   ],
   "source": [
    "plt.figure(figsize=(8, 5))\n",
    "ax = plt.subplot(1, 1, 1)\n",
    "ax.grid(True, color='gainsboro', linestyle='-', linewidth=0.5)\n",
    "plt.xticks(fontsize=12)\n",
    "plt.yticks(fontsize=12)\n",
    "ax.set_xlabel('x', fontsize=12)\n",
    "ax.set_ylabel('probability', fontsize=12)\n",
    "ax.yaxis.set_label_coords(-0.07, 0.16)\n",
    "\n",
    "ax.set_yticks([0,1,2,3,4])\n",
    "ax.set_yticklabels(['0','1','Class 1', 'Class 2', 'Class 3'])\n",
    "\n",
    "ax.plot(xobs, p1, c=\"orange\")\n",
    "ax.plot(xobs, p2, c=\"blue\")\n",
    "ax.plot(xobs, p3, c=\"green\")\n",
    "\n",
    "class1 = observed_class == 0\n",
    "ax.scatter(xobs[class1], observed_class[class1]+2, c=\"orange\", s=25)\n",
    "class2 = observed_class == 1\n",
    "ax.scatter(xobs[class2], observed_class[class2]+2, c=\"blue\", s=25)\n",
    "class3 = observed_class == 2\n",
    "ax.scatter(xobs[class3], observed_class[class3]+2, c=\"green\", s=25)\n",
    "\n",
    "plt.show()"
   ]
  },
  {
   "attachments": {},
   "cell_type": "markdown",
   "metadata": {},
   "source": [
    "The probability curves are the true (but unknown) ones that we used to generate this synthetic dataset."
   ]
  },
  {
   "attachments": {},
   "cell_type": "markdown",
   "metadata": {},
   "source": [
    "Our PyMC model is quite easy, but you have to remember to use `pytensor` rather than `numpy` to derive the probabilities. As before, note the `transpose()` to reshape the array into the shape that `pm.Multinomial` expects."
   ]
  },
  {
   "cell_type": "code",
   "execution_count": 20,
   "metadata": {},
   "outputs": [
    {
     "name": "stderr",
     "output_type": "stream",
     "text": [
      "Auto-assigning NUTS sampler...\n",
      "Initializing NUTS using jitter+adapt_diag...\n",
      "Initializing NUTS using jitter+adapt_diag...\n",
      "Multiprocess sampling (4 chains in 2 jobs)\n",
      "NUTS: [intercept2, slope2, intercept3, slope3]\n"
     ]
    },
    {
     "name": "stderr",
     "output_type": "stream",
     "text": [
      "Sampling 4 chains for 1_000 tune and 3_000 draw iterations (4_000 + 12_000 draws total) took 5 seconds.\n"
     ]
    }
   ],
   "source": [
    "with pm.Model() as myModel:\n",
    "\n",
    "    intercept2 = pm.Normal('intercept2', mu=0, sigma=10)\n",
    "    slope2     = pm.Normal('slope2',     mu=0, sigma=10)\n",
    "    intercept3 = pm.Normal('intercept3', mu=0, sigma=10)\n",
    "    slope3     = pm.Normal('slope3',     mu=0, sigma=10)\n",
    "\n",
    "    exp2 = pt.exp(intercept2+slope2*xobs)\n",
    "    exp3 = pt.exp(intercept3+slope3*xobs)\n",
    "    p1 = 1.0 / (1.0 + exp2+exp3)\n",
    "    p2 = exp2 * p1\n",
    "    p3 = exp3 * p1\n",
    "    p = pt.transpose([p1,p2,p3])\n",
    "    \n",
    "    likelihood = pm.Multinomial('y', n=1, p=p, observed=yobs)\n",
    "    trace = pm.sample(3000, chains=4, cores=2, return_inferencedata=True)"
   ]
  },
  {
   "attachments": {},
   "cell_type": "markdown",
   "metadata": {},
   "source": [
    "And here are the posteriors:"
   ]
  },
  {
   "cell_type": "code",
   "execution_count": null,
   "metadata": {},
   "outputs": [],
   "source": [
    "ax = az.plot_trace(trace, var_names=['intercept2', 'slope2', 'intercept3', 'slope3'])"
   ]
  },
  {
   "attachments": {},
   "cell_type": "markdown",
   "metadata": {},
   "source": [
    "Note that large uncertainties of our model parameters. This also shows in the posterior summary:"
   ]
  },
  {
   "cell_type": "code",
   "execution_count": null,
   "metadata": {},
   "outputs": [],
   "source": [
    "az.summary(trace, hdi_prob=0.95, round_to=3)"
   ]
  },
  {
   "attachments": {},
   "cell_type": "markdown",
   "metadata": {},
   "source": [
    "To plot the probability distributions on top of our dataset, we first extract the mean values for the intercepts and the slopes:"
   ]
  },
  {
   "cell_type": "code",
   "execution_count": null,
   "metadata": {},
   "outputs": [],
   "source": [
    "posteriorMean = az.summary(trace)['mean']\n",
    "mean_intercept2 = posteriorMean.intercept2\n",
    "mean_slope2 = posteriorMean.slope2\n",
    "mean_intercept3 = posteriorMean.intercept3\n",
    "mean_slope3 = posteriorMean.slope3\n"
   ]
  },
  {
   "attachments": {},
   "cell_type": "markdown",
   "metadata": {},
   "source": [
    "This allows us to compute a mean distribution for each of the $p_j(x)$:"
   ]
  },
  {
   "cell_type": "code",
   "execution_count": null,
   "metadata": {},
   "outputs": [],
   "source": [
    "xvalues = np.linspace(-1.7, 1.5, 100)\n",
    "exp2 = np.exp(mean_intercept2 + mean_slope2 * xvalues)\n",
    "exp3 = np.exp(mean_intercept3 + mean_slope3 * xvalues)\n",
    "mean_p1 = 1.0 / (1.0 + exp2+exp3)\n",
    "mean_p2 = exp2 * mean_p1\n",
    "mean_p3 = exp3 * mean_p1"
   ]
  },
  {
   "attachments": {},
   "cell_type": "markdown",
   "metadata": {},
   "source": [
    "leading to the following figure:"
   ]
  },
  {
   "cell_type": "code",
   "execution_count": null,
   "metadata": {},
   "outputs": [],
   "source": [
    "plt.figure(figsize=(8, 5))\n",
    "ax = plt.subplot(1, 1, 1)\n",
    "ax.grid(True, color='gainsboro', linestyle='-', linewidth=0.5)\n",
    "plt.xticks(fontsize=12)\n",
    "plt.yticks(fontsize=12)\n",
    "ax.set_xlabel('x', fontsize=12)\n",
    "ax.set_ylabel('probability', fontsize=12)\n",
    "ax.yaxis.set_label_coords(-0.07, 0.16)\n",
    "\n",
    "ax.set_yticks([0,1,2,3,4])\n",
    "ax.set_yticklabels(['0','1','Class 1', 'Class 2', 'Class 3'])\n",
    "\n",
    "ax.plot(xvalues, mean_p1, c=\"orange\")\n",
    "ax.plot(xvalues, mean_p2, c=\"blue\")\n",
    "ax.plot(xvalues, mean_p3, c=\"green\")\n",
    "\n",
    "class1 = observed_class == 0\n",
    "ax.scatter(xobs[class1], observed_class[class1]+2, c=\"orange\", s=25)\n",
    "class2 = observed_class == 1\n",
    "ax.scatter(xobs[class2], observed_class[class2]+2, c=\"blue\", s=25)\n",
    "class3 = observed_class == 2\n",
    "ax.scatter(xobs[class3], observed_class[class3]+2, c=\"green\", s=25)\n",
    "\n",
    "\n",
    "plt.show()"
   ]
  },
  {
   "attachments": {},
   "cell_type": "markdown",
   "metadata": {},
   "source": [
    "In our `PyMC` model we used the observations `yobs`. For a synthetic dataset this particular form of data is easily derived, but for a real-life dataset we usually have something similar as `observed_class`. Isn't there an easier way so that we can just use the latter? There is indeed: by using the `pm.Categorical` distribution:"
   ]
  },
  {
   "cell_type": "code",
   "execution_count": null,
   "metadata": {},
   "outputs": [],
   "source": [
    "with pm.Model() as myModel:\n",
    "\n",
    "    intercept2 = pm.Normal('intercept2', mu=0, sigma=10)\n",
    "    slope2     = pm.Normal('slope2',     mu=0, sigma=10)\n",
    "    intercept3 = pm.Normal('intercept3', mu=0, sigma=10)\n",
    "    slope3     = pm.Normal('slope3',     mu=0, sigma=10)\n",
    "\n",
    "    exp2 = pt.exp(intercept2+slope2*xobs)\n",
    "    exp3 = pt.exp(intercept3+slope3*xobs)\n",
    "    p1 = 1.0 / (1.0 + exp2+exp3)\n",
    "    p2 = exp2 * p1\n",
    "    p3 = exp3 * p1\n",
    "    p = pt.transpose([p1,p2,p3])\n",
    "    \n",
    "    likelihood = pm.Categorical('y', p, observed=observed_class)\n",
    "    trace = pm.sample(3000, chains=4, cores=2, return_inferencedata=True)"
   ]
  },
  {
   "attachments": {},
   "cell_type": "markdown",
   "metadata": {},
   "source": [
    "leading to similar posteriors:"
   ]
  },
  {
   "cell_type": "code",
   "execution_count": null,
   "metadata": {},
   "outputs": [],
   "source": [
    "ax = az.plot_trace(trace, var_names=['intercept2', 'slope2', 'intercept3', 'slope3'])"
   ]
  },
  {
   "attachments": {},
   "cell_type": "markdown",
   "metadata": {},
   "source": [
    "Back to [contents](#Contents)."
   ]
  },
  {
   "attachments": {},
   "cell_type": "markdown",
   "metadata": {},
   "source": [
    "---"
   ]
  },
  {
   "attachments": {},
   "cell_type": "markdown",
   "metadata": {},
   "source": [
    "## Modeling a fraction with the Beta distribution with Stan"
   ]
  },
  {
   "cell_type": "code",
   "execution_count": null,
   "metadata": {},
   "outputs": [],
   "source": [
    "url = \"https://raw.githubusercontent.com/JorisDeRidder/DataAnalysisInPhysicsAndAstronomy/main/Datasets/f_gas.csv\"\n",
    "data = pd.read_csv(url, comment='#')\n",
    "data.head()"
   ]
  },
  {
   "cell_type": "code",
   "execution_count": null,
   "metadata": {},
   "outputs": [],
   "source": [
    "gasFraction = data['M_HI'].values / (data['M_HI'].values + data['M_STAR'].values)\n",
    "x = np.log10(data['M_STAR'].values)\n",
    "myData = {'N': len(x), 'x': x, 'y': gasFraction}"
   ]
  },
  {
   "cell_type": "code",
   "execution_count": null,
   "metadata": {},
   "outputs": [],
   "source": [
    "fig, ax = plt.subplots(1,1, figsize=(10,6))\n",
    "\n",
    "ax.scatter(np.log10(data['M_STAR']), gasFraction, s=10)\n",
    "ax.set_ylabel(\"Gas fraction\")\n",
    "ax.set_xlabel(r\"$\\log(M/M_{\\odot})$\")\n",
    "ax.set_ylim(0,1)\n",
    "ax.grid(True, color='gainsboro', linestyle='-', linewidth=0.5)\n",
    "plt.show()"
   ]
  },
  {
   "cell_type": "code",
   "execution_count": null,
   "metadata": {},
   "outputs": [],
   "source": [
    "Nnew = 100\n",
    "xnew = np.linspace(6.5, 11.5, Nnew)\n",
    "myData['Nnew'] = Nnew\n",
    "myData['xnew'] = xnew"
   ]
  },
  {
   "attachments": {},
   "cell_type": "markdown",
   "metadata": {},
   "source": [
    "The Stan script:"
   ]
  },
  {
   "cell_type": "code",
   "execution_count": null,
   "metadata": {},
   "outputs": [],
   "source": [
    "code = \\\n",
    "\"\"\"\n",
    "data {\n",
    "    int<lower=0> N;                                   // Number of observations\n",
    "    real x[N];                                        // log10(mass)\n",
    "    real<lower=0, upper=1> y[N];                      // Gas fraction observations\n",
    "    int<lower=0> Nnew;                                // To compute posterior prediction interval\n",
    "    real xnew[Nnew]; \n",
    "}\n",
    "\n",
    "parameters {\n",
    "    real intercept;\n",
    "    real slope;\n",
    "    real<lower=0> kappa;                              // Beta distribution parameter\n",
    "}\n",
    "\n",
    "model {\n",
    "    \n",
    "    vector[N] mu;                                     // Mean of the beta distribution\n",
    "    \n",
    "    for (n in 1:N) {\n",
    "        mu[n] = inv_logit(intercept + slope * x[n]);\n",
    "    }\n",
    "    \n",
    "    intercept ~ normal(0, 20);\n",
    "    slope ~ normal(0, 20);\n",
    "    kappa ~ student_t(4,0,1);\n",
    "    \n",
    "    y ~ beta_proportion(mu, kappa);\n",
    "}\n",
    "\n",
    "generated quantities {\n",
    "    \n",
    "    real aa[Nnew];\n",
    "    real bb[Nnew];\n",
    "    real eta[Nnew];\n",
    "    \n",
    "    for (n in 1:Nnew) {\n",
    "        eta[n] = inv_logit(intercept + slope * xnew[n]); \n",
    "        aa[n] = eta[n] * kappa;\n",
    "        bb[n] = (1-eta[n]) * kappa;\n",
    "    }\n",
    "    real ynew[Nnew] = beta_rng(aa, bb);\n",
    "}\n",
    "\"\"\""
   ]
  },
  {
   "cell_type": "code",
   "execution_count": null,
   "metadata": {},
   "outputs": [],
   "source": [
    "model = stan.build(code, data=myData, random_seed=13593)"
   ]
  },
  {
   "cell_type": "code",
   "execution_count": null,
   "metadata": {},
   "outputs": [],
   "source": [
    "trace = model.sample(num_chains=4, num_samples=4000)"
   ]
  },
  {
   "cell_type": "code",
   "execution_count": null,
   "metadata": {},
   "outputs": [],
   "source": [
    "ax = az.plot_trace(trace, var_names=['intercept', 'slope', 'kappa'])"
   ]
  },
  {
   "cell_type": "code",
   "execution_count": null,
   "metadata": {},
   "outputs": [],
   "source": [
    "meanIntercept = np.mean(trace['intercept'])\n",
    "meanSlope = np.mean(trace['slope'])\n",
    "xvalues = np.linspace(6.5, 11.5, 100)\n",
    "yvalues = 1/(1+np.exp(-meanIntercept-meanSlope*xvalues))"
   ]
  },
  {
   "cell_type": "code",
   "execution_count": null,
   "metadata": {},
   "outputs": [],
   "source": [
    "median = np.quantile(trace['ynew'], 0.5, axis=1)\n",
    "lowerQuantile = np.quantile(trace['ynew'], 0.025, axis=1)\n",
    "upperQuantile = np.quantile(trace['ynew'], 0.975, axis=1)"
   ]
  },
  {
   "cell_type": "code",
   "execution_count": null,
   "metadata": {},
   "outputs": [],
   "source": [
    "fig, ax = plt.subplots(1,1, figsize=(10,6))\n",
    "\n",
    "median = np.quantile(trace['ynew'], 0.5, axis=1)\n",
    "ax.plot(xnew, median, c=\"red\", linewidth=2)\n",
    "\n",
    "lowerQuantile = np.quantile(trace['ynew'], 0.025, axis=1)                              # 95% prediction interval\n",
    "upperQuantile = np.quantile(trace['ynew'], 0.975, axis=1)\n",
    "ax.fill_between(xnew, lowerQuantile, upperQuantile, color=\"lightblue\", alpha=0.2)\n",
    "\n",
    "lowerQuantile = np.quantile(trace['ynew'], 0.25, axis=1)                               #  50% prediction interval    \n",
    "upperQuantile = np.quantile(trace['ynew'], 0.75, axis=1)\n",
    "ax.fill_between(xnew, lowerQuantile, upperQuantile, color=\"lightblue\", alpha=0.6)\n",
    "\n",
    "ax.scatter(np.log10(data['M_STAR']), gasFraction, s=10)\n",
    "\n",
    "ax.set_ylabel(\"Gas fraction\")\n",
    "ax.set_xlabel(r\"$\\log(M/M_{\\odot})$\")\n",
    "ax.set_ylim(-0.1, 1.1)\n",
    "ax.grid(True, color='gainsboro', linestyle='-', linewidth=0.5)\n",
    "plt.show()"
   ]
  },
  {
   "attachments": {},
   "cell_type": "markdown",
   "metadata": {},
   "source": [
    "Back to [contents](#Contents)."
   ]
  },
  {
   "attachments": {},
   "cell_type": "markdown",
   "metadata": {},
   "source": [
    "---"
   ]
  },
  {
   "attachments": {},
   "cell_type": "markdown",
   "metadata": {},
   "source": [
    "## Modeling counts with Poisson with PyMC"
   ]
  },
  {
   "cell_type": "code",
   "execution_count": null,
   "metadata": {},
   "outputs": [],
   "source": [
    "url = \"https://raw.githubusercontent.com/JorisDeRidder/DataAnalysisInPhysicsAndAstronomy/main/Datasets/GCs.csv\"\n",
    "data = pd.read_csv(url, comment='#')\n",
    "data.head()"
   ]
  },
  {
   "cell_type": "code",
   "execution_count": null,
   "metadata": {},
   "outputs": [],
   "source": [
    "fig, ax = plt.subplots(1,1, figsize=(10,6))\n",
    "\n",
    "ax.scatter(data['MV_T'], data['N_GC'], s=20)\n",
    "ax.set_xlabel(\"Absolute magnitude\")\n",
    "ax.set_ylabel(\"Number of globular clusters\")\n",
    "ax.set_xlim(-11,-25.)\n",
    "ax.set_ylim(-1, 10**5)\n",
    "ax.set_yscale('symlog')\n",
    "ax.grid(True, color='gainsboro', linestyle='-', linewidth=0.5)\n",
    "plt.show()"
   ]
  },
  {
   "attachments": {},
   "cell_type": "markdown",
   "metadata": {},
   "source": [
    "The PyMC model:"
   ]
  },
  {
   "cell_type": "code",
   "execution_count": null,
   "metadata": {},
   "outputs": [],
   "source": [
    "with pm.Model() as myModel:\n",
    "    xobs = pm.Data(\"xobs\", data['MV_T'].values)\n",
    "    yobs = pm.Data(\"yobs\", data['N_GC'].values)\n",
    "    intercept  = pm.Normal('intercept', mu=0, sigma=40)\n",
    "    slope      = pm.Normal('slope', mu=0, sigma=40)\n",
    "    mu         = np.exp(intercept + slope * xobs)\n",
    "    y          = pm.Poisson('y', mu=mu, observed=yobs)\n",
    "\n",
    "    N = len(data['N_GC'].values)\n",
    "    K = 2\n",
    "    dispersion = pm.Deterministic('dispersion', pt.sum((yobs-mu)**2 / mu) / (N-K))\n",
    "\n",
    "    trace = pm.sample(3000, chains=4, cores=2, return_inferencedata=True, random_seed=3941592)"
   ]
  },
  {
   "cell_type": "code",
   "execution_count": null,
   "metadata": {},
   "outputs": [],
   "source": [
    "ax = az.plot_trace(trace, var_names=['intercept', 'slope', 'dispersion'])"
   ]
  },
  {
   "cell_type": "code",
   "execution_count": null,
   "metadata": {},
   "outputs": [],
   "source": [
    "az.summary(trace, var_names=['intercept', 'slope', 'dispersion'], hdi_prob=0.95, round_to=3)"
   ]
  },
  {
   "cell_type": "code",
   "execution_count": null,
   "metadata": {},
   "outputs": [],
   "source": [
    "posteriorMean = pm.summary(trace, var_names=['intercept', 'slope'])['mean']\n",
    "meanIntercept = posteriorMean.intercept\n",
    "meanSlope = posteriorMean.slope"
   ]
  },
  {
   "cell_type": "code",
   "execution_count": null,
   "metadata": {},
   "outputs": [],
   "source": [
    "fig, ax = plt.subplots(1,1, figsize=(12,8))\n",
    "\n",
    "ax.scatter(data['MV_T'], data['N_GC'], s=20)\n",
    "\n",
    "xvalues = np.linspace(-24, -12, 100)\n",
    "yvalues = np.exp(meanIntercept + meanSlope * xvalues)\n",
    "ax.plot(xvalues, yvalues, c=\"red\", linewidth=3, alpha=0.5)\n",
    "\n",
    "ax.set_xlabel(\"Absolute magnitude\")\n",
    "ax.set_ylabel(\"Number of globular clusters\")\n",
    "ax.set_xlim(-11,-25.)\n",
    "ax.set_ylim(-1.0, 10**5)\n",
    "ax.set_yscale('symlog')\n",
    "ax.grid(True, color='gainsboro', linestyle='-', linewidth=0.5)\n",
    "plt.show()"
   ]
  },
  {
   "attachments": {},
   "cell_type": "markdown",
   "metadata": {},
   "source": [
    "Back to [contents](#Contents)."
   ]
  },
  {
   "attachments": {},
   "cell_type": "markdown",
   "metadata": {},
   "source": [
    "---"
   ]
  },
  {
   "attachments": {},
   "cell_type": "markdown",
   "metadata": {},
   "source": [
    "## Modeling counts with Poisson with Stan"
   ]
  },
  {
   "attachments": {},
   "cell_type": "markdown",
   "metadata": {},
   "source": [
    "We use the same dataset as in the previous example:"
   ]
  },
  {
   "cell_type": "code",
   "execution_count": null,
   "metadata": {},
   "outputs": [],
   "source": [
    "url = \"https://raw.githubusercontent.com/JorisDeRidder/DataAnalysisInPhysicsAndAstronomy/main/Datasets/GCs.csv\"\n",
    "data = pd.read_csv(url, comment='#')"
   ]
  },
  {
   "attachments": {},
   "cell_type": "markdown",
   "metadata": {},
   "source": [
    "The Stan script:"
   ]
  },
  {
   "cell_type": "code",
   "execution_count": null,
   "metadata": {},
   "outputs": [],
   "source": [
    "code = \\\n",
    "\"\"\"\n",
    "data {\n",
    "   int<lower=0> N;                   // Number of data points\n",
    "   int<lower=0> K;                   // Number of model parameters\n",
    "   matrix[N,K] X;                    // Design matrix\n",
    "   int y[N];                         // Globular cluster counts\n",
    "}\n",
    "\n",
    "parameters {\n",
    "   vector[K] theta;                  // Model parameters\n",
    "}\n",
    "\n",
    "transformed parameters {\n",
    "   real intercept;                   // Separate quantities just to make the trace plots more clear\n",
    "   real slope;\n",
    "  \n",
    "   intercept = theta[1];\n",
    "   slope = theta[2];\n",
    "}\n",
    "\n",
    "model {\n",
    "   y ~ poisson_log(X * theta);       // Poisson with mu = exp(X*theta)\n",
    "}\n",
    "\"\"\""
   ]
  },
  {
   "cell_type": "code",
   "execution_count": null,
   "metadata": {},
   "outputs": [],
   "source": [
    "X = sm.add_constant(np.column_stack([data['MV_T'].values]))                         # Design matrix\n",
    "myData = {'X': X, 'y': data['N_GC'].values, 'N': X.shape[0], 'K': X.shape[1]}"
   ]
  },
  {
   "cell_type": "code",
   "execution_count": null,
   "metadata": {
    "scrolled": true
   },
   "outputs": [],
   "source": [
    "model = stan.build(code, data=myData, random_seed=135)"
   ]
  },
  {
   "cell_type": "code",
   "execution_count": null,
   "metadata": {
    "scrolled": true
   },
   "outputs": [],
   "source": [
    "trace = model.sample(num_chains=4, num_samples=5000)"
   ]
  },
  {
   "cell_type": "code",
   "execution_count": null,
   "metadata": {},
   "outputs": [],
   "source": [
    "ax = az.plot_trace(trace, var_names=['intercept', 'slope'])"
   ]
  },
  {
   "cell_type": "code",
   "execution_count": null,
   "metadata": {},
   "outputs": [],
   "source": [
    "az.summary(trace, var_names=['intercept', 'slope'])"
   ]
  },
  {
   "attachments": {},
   "cell_type": "markdown",
   "metadata": {},
   "source": [
    "Back to [contents](#Contents)."
   ]
  },
  {
   "attachments": {},
   "cell_type": "markdown",
   "metadata": {},
   "source": [
    "---"
   ]
  },
  {
   "attachments": {},
   "cell_type": "markdown",
   "metadata": {},
   "source": [
    "## Modeling counts with Negative Binomial with PyMC"
   ]
  },
  {
   "cell_type": "code",
   "execution_count": null,
   "metadata": {},
   "outputs": [],
   "source": [
    "url = \"https://raw.githubusercontent.com/JorisDeRidder/DataAnalysisInPhysicsAndAstronomy/main/Datasets/GCs.csv\"\n",
    "data = pd.read_csv(url, comment='#')"
   ]
  },
  {
   "cell_type": "code",
   "execution_count": null,
   "metadata": {},
   "outputs": [],
   "source": [
    "with pm.Model() as myModel:\n",
    "    \n",
    "    xobs       = pm.Data(\"xobs\", data['MV_T'].values)\n",
    "    yobs       = pm.Data(\"yobs\", data['N_GC'].values)\n",
    "    intercept  = pm.Normal('intercept', mu=0, sigma=40)\n",
    "    slope      = pm.Normal('slope', mu=0, sigma=40)\n",
    "    mu         = np.exp(intercept + slope * xobs)\n",
    "    alpha      = pm.Uniform('alpha', 0, 5)\n",
    "    y          = pm.NegativeBinomial('y', mu=mu, alpha=alpha, observed=yobs)\n",
    "    var        = pm.Deterministic('variance', mu * (1+mu/alpha))\n",
    "\n",
    "    N = len(data['N_GC'].values)\n",
    "    K = 3\n",
    "    dispersion = pm.Deterministic('dispersion', pt.sum((yobs-mu)**2 / var) / (N-K))\n",
    "\n",
    "    trace = pm.sample(3000, chains=4, cores=2, return_inferencedata=True, random_seed=341592)"
   ]
  },
  {
   "cell_type": "code",
   "execution_count": null,
   "metadata": {},
   "outputs": [],
   "source": [
    "ax = az.plot_trace(trace, var_names=['intercept', 'slope', 'alpha', 'dispersion'])"
   ]
  },
  {
   "attachments": {},
   "cell_type": "markdown",
   "metadata": {},
   "source": [
    "The model is still slightly overdispersed, but we can't exclude that this is caused by the fact that we somewhat misspecified our model. "
   ]
  },
  {
   "cell_type": "code",
   "execution_count": null,
   "metadata": {},
   "outputs": [],
   "source": [
    "posteriorMean = pm.summary(trace, var_names=['intercept', 'slope'])['mean']\n",
    "meanIntercept = posteriorMean.intercept\n",
    "meanSlope = posteriorMean.slope"
   ]
  },
  {
   "cell_type": "code",
   "execution_count": null,
   "metadata": {},
   "outputs": [],
   "source": [
    "fig, ax = plt.subplots(1,1, figsize=(12,8))\n",
    "\n",
    "ax.scatter(data['MV_T'], data['N_GC'], s=20)\n",
    "\n",
    "xvalues = np.linspace(-24, -12, 100)\n",
    "yvalues = np.exp(meanIntercept + meanSlope * xvalues)\n",
    "ax.plot(xvalues, yvalues, c=\"red\", linewidth=3, alpha=0.5)\n",
    "\n",
    "ax.set_xlabel(\"Absolute magnitude\")\n",
    "ax.set_ylabel(\"Number of globular clusters\")\n",
    "ax.set_xlim(-11,-25.)\n",
    "ax.set_ylim(-1, 10**5)\n",
    "ax.set_yscale('symlog')\n",
    "ax.grid(True, color='gainsboro', linestyle='-', linewidth=0.5)\n",
    "plt.show()"
   ]
  },
  {
   "attachments": {},
   "cell_type": "markdown",
   "metadata": {},
   "source": [
    "Back to [contents](#Contents)."
   ]
  },
  {
   "attachments": {},
   "cell_type": "markdown",
   "metadata": {},
   "source": [
    "---"
   ]
  },
  {
   "attachments": {},
   "cell_type": "markdown",
   "metadata": {},
   "source": [
    "## Modeling counts with Negative Binomial with Stan"
   ]
  },
  {
   "cell_type": "code",
   "execution_count": null,
   "metadata": {},
   "outputs": [],
   "source": [
    "url = \"https://raw.githubusercontent.com/JorisDeRidder/DataAnalysisInPhysicsAndAstronomy/main/Datasets/GCs.csv\"\n",
    "data = pd.read_csv(url, comment='#')"
   ]
  },
  {
   "attachments": {},
   "cell_type": "markdown",
   "metadata": {},
   "source": [
    "The Stan script:"
   ]
  },
  {
   "cell_type": "code",
   "execution_count": null,
   "metadata": {},
   "outputs": [],
   "source": [
    "code = \\\n",
    "\"\"\"\n",
    "data {\n",
    "   int<lower=0> N;                   // Number of data points\n",
    "   int<lower=0> K;                   // Number of model parameters\n",
    "   matrix[N,K] X;                    // Design matrix\n",
    "   int y[N];                         // Observed globular cluster counts\n",
    "}\n",
    "\n",
    "parameters {\n",
    "   vector[K] theta;                  // Model coefficients of the straight line\n",
    "   real<lower=1e-3, upper=5> alpha;  // Negative Binomial parameter\n",
    "}\n",
    "\n",
    "transformed parameters {\n",
    "   real intercept;                   // Separate quantities just to make the trace plots more clear\n",
    "   real slope;\n",
    "  \n",
    "   intercept = theta[1];\n",
    "   slope = theta[2];\n",
    "}\n",
    "\n",
    "model {\n",
    "   y ~ neg_binomial_2_log(X * theta, alpha);       // Negative binomial with mu = exp(X*theta)\n",
    "}\n",
    "\n",
    "generated quantities {\n",
    "   real dispersion;\n",
    "   vector[N] mu;\n",
    "   vector[N] variance;\n",
    "   vector[N] PearsonResiduals;\n",
    "   \n",
    "   mu = exp(X * theta);\n",
    "   for (n in 1:N) {\n",
    "      variance[n] = mu[n] * (1 + mu[n]/alpha);\n",
    "      PearsonResiduals[n] = pow(y[n] - mu[n], 2) / variance[n];\n",
    "   }\n",
    "   \n",
    "   dispersion = sum(PearsonResiduals) / (N - K - 1);\n",
    "}\n",
    "\"\"\""
   ]
  },
  {
   "attachments": {},
   "cell_type": "markdown",
   "metadata": {},
   "source": [
    "A lower value of 0 for alpha would lead to infinities, hence I avoid it."
   ]
  },
  {
   "cell_type": "code",
   "execution_count": null,
   "metadata": {},
   "outputs": [],
   "source": [
    "X = sm.add_constant(np.column_stack([data['MV_T'].values]))                         # Design matrix\n",
    "myData = {'X': X, 'y': data['N_GC'].values, 'N': X.shape[0], 'K': X.shape[1]}"
   ]
  },
  {
   "cell_type": "code",
   "execution_count": null,
   "metadata": {
    "scrolled": true
   },
   "outputs": [],
   "source": [
    "model = stan.build(code, data=myData, random_seed=135)"
   ]
  },
  {
   "cell_type": "code",
   "execution_count": null,
   "metadata": {
    "scrolled": true
   },
   "outputs": [],
   "source": [
    "trace = model.sample(num_chains=4, num_samples=5000)"
   ]
  },
  {
   "cell_type": "code",
   "execution_count": null,
   "metadata": {},
   "outputs": [],
   "source": [
    "ax = az.plot_trace(trace, var_names=['intercept', 'slope', 'alpha', 'dispersion'])"
   ]
  },
  {
   "attachments": {},
   "cell_type": "markdown",
   "metadata": {},
   "source": [
    "Back to [contents](#Contents)."
   ]
  },
  {
   "attachments": {},
   "cell_type": "markdown",
   "metadata": {},
   "source": [
    "---"
   ]
  },
  {
   "attachments": {},
   "cell_type": "markdown",
   "metadata": {},
   "source": [
    "## A zero-truncated Poisson model with Stan"
   ]
  },
  {
   "attachments": {},
   "cell_type": "markdown",
   "metadata": {},
   "source": [
    "Create an artificial dataset:"
   ]
  },
  {
   "cell_type": "code",
   "execution_count": null,
   "metadata": {},
   "outputs": [],
   "source": [
    "y = sp.stats.poisson.rvs(mu=2.5, size=200)\n",
    "y = y + 1                                                     # No zeros in our dataset "
   ]
  },
  {
   "cell_type": "code",
   "execution_count": null,
   "metadata": {},
   "outputs": [],
   "source": [
    "myData = {'N': len(y), 'y': y}"
   ]
  },
  {
   "attachments": {},
   "cell_type": "markdown",
   "metadata": {},
   "source": [
    "The Stan script: "
   ]
  },
  {
   "cell_type": "code",
   "execution_count": null,
   "metadata": {},
   "outputs": [],
   "source": [
    "code = \\\n",
    "\"\"\"\n",
    "data {\n",
    "   int N;\n",
    "   int<lower=1> y[N];                                   // Our observed counts dataset\n",
    "}\n",
    "\n",
    "parameters {\n",
    "   real<lower=0> lambda;\n",
    "}\n",
    "\n",
    "model {\n",
    "\n",
    "   lambda ~ cauchy(0,5);                                // Half-cauchy prior\n",
    "\n",
    "   for (n in 1:N) {\n",
    "      y[n] ~ poisson(lambda)  T[1,];                    // Truncator flag T[low, high]\n",
    "   }\n",
    "}\n",
    "\"\"\""
   ]
  },
  {
   "cell_type": "code",
   "execution_count": null,
   "metadata": {},
   "outputs": [],
   "source": [
    "model = stan.build(code, data=myData, random_seed=1325)"
   ]
  },
  {
   "cell_type": "code",
   "execution_count": null,
   "metadata": {},
   "outputs": [],
   "source": [
    "trace = model.sample(num_chains=4, num_samples=3000)"
   ]
  },
  {
   "cell_type": "code",
   "execution_count": null,
   "metadata": {},
   "outputs": [],
   "source": [
    "ax = az.plot_trace(trace)"
   ]
  },
  {
   "cell_type": "code",
   "execution_count": null,
   "metadata": {},
   "outputs": [],
   "source": [
    "az.summary(trace)"
   ]
  },
  {
   "attachments": {},
   "cell_type": "markdown",
   "metadata": {},
   "source": [
    "Back to [contents](#Contents)."
   ]
  },
  {
   "attachments": {},
   "cell_type": "markdown",
   "metadata": {},
   "source": [
    "---"
   ]
  },
  {
   "attachments": {},
   "cell_type": "markdown",
   "metadata": {},
   "source": [
    "## A zero-truncated Poisson model with PyMC"
   ]
  },
  {
   "attachments": {},
   "cell_type": "markdown",
   "metadata": {},
   "source": [
    "Create an artificial dataset:"
   ]
  },
  {
   "cell_type": "code",
   "execution_count": null,
   "metadata": {},
   "outputs": [],
   "source": [
    "y = sp.stats.poisson.rvs(mu=2.5, size=200)\n",
    "y = y + 1                                                     # No zeros in our dataset (average is now around 3.5 rather than 2.5)"
   ]
  },
  {
   "attachments": {},
   "cell_type": "markdown",
   "metadata": {},
   "source": [
    "To model count data that have no zero counts among them, we can use a truncated Poisson model:"
   ]
  },
  {
   "cell_type": "code",
   "execution_count": null,
   "metadata": {},
   "outputs": [],
   "source": [
    "with pm.Model() as myModel:\n",
    "    \n",
    "    yobs = pm.ConstantData(\"yobs\", y)                                                                          # The observations\n",
    "\n",
    "    mu = pm.HalfNormal(\"mu\", sigma=4)                                                                          # The prior on the average number of counts\n",
    "    truncatedPoisson = pm.Truncated(\"truncated_poisson\", pm.Poisson.dist(mu=mu), lower=1, observed=yobs)       # Truncate the counts to be >= 1.\n",
    "\n",
    "    trace = pm.sample(3000, chains=4, cores=2, return_inferencedata=True, random_seed=341592)"
   ]
  },
  {
   "cell_type": "code",
   "execution_count": null,
   "metadata": {},
   "outputs": [],
   "source": [
    "ax = az.plot_trace(trace)"
   ]
  },
  {
   "attachments": {},
   "cell_type": "markdown",
   "metadata": {},
   "source": [
    "Back to [contents](#Contents)."
   ]
  },
  {
   "attachments": {},
   "cell_type": "markdown",
   "metadata": {},
   "source": [
    "---"
   ]
  },
  {
   "attachments": {},
   "cell_type": "markdown",
   "metadata": {},
   "source": []
  }
 ],
 "metadata": {
  "kernelspec": {
   "display_name": "Python 3 (ipykernel)",
   "language": "python",
   "name": "python3"
  },
  "language_info": {
   "codemirror_mode": {
    "name": "ipython",
    "version": 3
   },
   "file_extension": ".py",
   "mimetype": "text/x-python",
   "name": "python",
   "nbconvert_exporter": "python",
   "pygments_lexer": "ipython3",
   "version": "3.11.0"
  },
  "vscode": {
   "interpreter": {
    "hash": "70e2515f7afd97f80b58b2d9ab25af8b5ba10c164f3f9636d94ad1d1ce740eec"
   }
  }
 },
 "nbformat": 4,
 "nbformat_minor": 4
}
